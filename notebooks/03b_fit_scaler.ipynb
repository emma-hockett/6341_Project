{
 "cells": [
  {
   "cell_type": "code",
   "execution_count": 6,
   "id": "initial_id",
   "metadata": {},
   "outputs": [
    {
     "name": "stdout",
     "output_type": "stream",
     "text": [
      "The autoreload extension is already loaded. To reload it, use:\n",
      "  %reload_ext autoreload\n"
     ]
    }
   ],
   "source": [
    "# Importing \n",
    "%load_ext autoreload\n",
    "%autoreload 2\n",
    "import os \n",
    "import sys \n",
    "import pandas as pd\n",
    "from sklearn.preprocessing import StandardScaler\n",
    "import joblib\n",
    "\n",
    "\n",
    "# Project Root \n",
    "project_root = os.path.abspath(os.path.join(os.getcwd(), '..'))\n",
    "if project_root not in sys.path:\n",
    "    sys.path.append(project_root)\n",
    "\n",
    "import src.utils.file_utils as fu\n",
    "\n",
    "cfg_feature_engineering = fu.load_config(\"feature_engineering\")\n",
    "numeric_cols = ['loan_amount', 'income', 'combined_loan_to_value_ratio', 'loan_term', 'intro_rate_period', 'prepayment_penalty_term', \n",
    "                'property_value']"
   ]
  },
  {
   "cell_type": "code",
   "execution_count": 10,
   "id": "ffac2e05-1168-4dd4-84b8-ad06707cb275",
   "metadata": {},
   "outputs": [
    {
     "name": "stdout",
     "output_type": "stream",
     "text": [
      "Loading dataset from C:\\Users\\emmah\\6341_Project\\data\\interim\\hmda_2024_typed.parquet\n"
     ]
    }
   ],
   "source": [
    "# Read processed data file\n",
    "typed_data = fu.load_parquet(\"hmda_2024_typed\")\n",
    "train_index_path = os.path.join(project_root, 'data', 'processed', 'train_index.csv')\n",
    "train_index = pd.read_csv(train_index_path)\n",
    "train_data = typed_data.loc[train_index['index']]"
   ]
  },
  {
   "cell_type": "code",
   "execution_count": 13,
   "id": "d7acbd0f-393d-4769-b68e-0ca70ee743c6",
   "metadata": {},
   "outputs": [
    {
     "name": "stdout",
     "output_type": "stream",
     "text": [
      "Scaler fitted\n"
     ]
    }
   ],
   "source": [
    "# Fitting the Scaler\n",
    "scaler = StandardScaler()\n",
    "scaler.fit(train_data[numeric_cols])\n",
    "print(\"Scaler fitted\")"
   ]
  },
  {
   "cell_type": "code",
   "execution_count": 15,
   "id": "c18d5820-74cf-40ba-a124-dfc5f387cd20",
   "metadata": {},
   "outputs": [
    {
     "data": {
      "text/plain": [
       "['C:\\\\Users\\\\emmah\\\\6341_Project\\\\models\\\\scaler.pkl']"
      ]
     },
     "execution_count": 15,
     "metadata": {},
     "output_type": "execute_result"
    }
   ],
   "source": [
    "#Saving the Scaler\n",
    "scaler_path = os.path.join(project_root, \"models\", \"scaler.pkl\")\n",
    "os.makedirs(os.path.dirname(scaler_path), exist_ok=True)\n",
    "joblib.dump(scaler, scaler_path)\n"
   ]
  },
  {
   "cell_type": "code",
   "execution_count": null,
   "id": "1cab2bf1-403d-403e-af3b-47300b321f50",
   "metadata": {},
   "outputs": [],
   "source": []
  }
 ],
 "metadata": {
  "kernelspec": {
   "display_name": "Python 3 (ipykernel)",
   "language": "python",
   "name": "python3"
  },
  "language_info": {
   "codemirror_mode": {
    "name": "ipython",
    "version": 3
   },
   "file_extension": ".py",
   "mimetype": "text/x-python",
   "name": "python",
   "nbconvert_exporter": "python",
   "pygments_lexer": "ipython3",
   "version": "3.13.5"
  }
 },
 "nbformat": 4,
 "nbformat_minor": 5
}
