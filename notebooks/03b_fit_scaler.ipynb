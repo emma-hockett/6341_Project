{
 "cells": [
  {
   "cell_type": "code",
   "id": "initial_id",
   "metadata": {
    "ExecuteTime": {
     "end_time": "2025-10-28T14:15:06.289588Z",
     "start_time": "2025-10-28T14:15:06.212092Z"
    }
   },
   "source": [
    "# Importing \n",
    "%load_ext autoreload\n",
    "%autoreload 2\n",
    "import os \n",
    "import sys \n",
    "import pandas as pd\n",
    "from sklearn.preprocessing import StandardScaler\n",
    "import joblib\n",
    "import src.helpers.feature_engineering_helper as feh\n",
    "\n",
    "\n",
    "# Project Root \n",
    "project_root = os.path.abspath(os.path.join(os.getcwd(), '..'))\n",
    "if project_root not in sys.path:\n",
    "    sys.path.append(project_root)\n",
    "\n",
    "import src.utils.file_utils as fu\n",
    "\n",
    "cfg_schema = fu.load_config(\"schema\")\n",
    "cfg_feature_engineering = fu.load_config(\"feature_engineering\")\n",
    "\n",
    "numeric_cols = ['loan_amount', 'income', 'combined_loan_to_value_ratio', 'loan_term', 'intro_rate_period', 'prepayment_penalty_term', \n",
    "                'property_value']"
   ],
   "outputs": [
    {
     "name": "stdout",
     "output_type": "stream",
     "text": [
      "The autoreload extension is already loaded. To reload it, use:\n",
      "  %reload_ext autoreload\n"
     ]
    }
   ],
   "execution_count": 11
  },
  {
   "cell_type": "code",
   "id": "ffac2e05-1168-4dd4-84b8-ad06707cb275",
   "metadata": {
    "ExecuteTime": {
     "end_time": "2025-10-28T14:15:11.197117Z",
     "start_time": "2025-10-28T14:15:06.310291Z"
    }
   },
   "source": [
    "# Read processed data file\n",
    "typed_data = fu.load_parquet(\"hmda_2024_model\")\n",
    "train_index_path = os.path.join(project_root, 'data', 'processed', 'train_index.csv')\n",
    "train_index = pd.read_csv(train_index_path)\n",
    "train_data = typed_data.loc[train_index['index']]"
   ],
   "outputs": [
    {
     "name": "stdout",
     "output_type": "stream",
     "text": [
      "Loading dataset from /Users/c1burns/Documents/UTD/BUAN 6341/project_repo/data/processed/hmda_2024_model.parquet\n"
     ]
    }
   ],
   "execution_count": 12
  },
  {
   "metadata": {
    "ExecuteTime": {
     "end_time": "2025-10-28T14:15:11.519449Z",
     "start_time": "2025-10-28T14:15:11.245697Z"
    }
   },
   "cell_type": "code",
   "source": [
    "# Log transform skewed continuous features prior to scaling\n",
    "train_data = feh.log_transform_skewed_features(train_data)"
   ],
   "id": "2bfb72d53e2cc74",
   "outputs": [],
   "execution_count": 13
  },
  {
   "cell_type": "code",
   "id": "d7acbd0f-393d-4769-b68e-0ca70ee743c6",
   "metadata": {
    "ExecuteTime": {
     "end_time": "2025-10-28T14:15:12.088811Z",
     "start_time": "2025-10-28T14:15:11.537343Z"
    }
   },
   "source": [
    "# Fitting the Scaler\n",
    "scaler = StandardScaler()\n",
    "scaler.fit(train_data[numeric_cols])\n",
    "print(\"Scaler fitted\")"
   ],
   "outputs": [
    {
     "name": "stdout",
     "output_type": "stream",
     "text": [
      "Scaler fitted\n"
     ]
    }
   ],
   "execution_count": 14
  },
  {
   "cell_type": "code",
   "id": "c18d5820-74cf-40ba-a124-dfc5f387cd20",
   "metadata": {
    "ExecuteTime": {
     "end_time": "2025-10-28T14:15:12.130663Z",
     "start_time": "2025-10-28T14:15:12.115137Z"
    }
   },
   "source": [
    "#Saving the Scaler\n",
    "scaler_path = os.path.join(project_root, \"models\", \"scaler.pkl\")\n",
    "os.makedirs(os.path.dirname(scaler_path), exist_ok=True)\n",
    "joblib.dump(scaler, scaler_path)\n"
   ],
   "outputs": [
    {
     "data": {
      "text/plain": [
       "['/Users/c1burns/Documents/UTD/BUAN 6341/project_repo/models/scaler.pkl']"
      ]
     },
     "execution_count": 15,
     "metadata": {},
     "output_type": "execute_result"
    }
   ],
   "execution_count": 15
  },
  {
   "cell_type": "code",
   "id": "1cab2bf1-403d-403e-af3b-47300b321f50",
   "metadata": {
    "ExecuteTime": {
     "end_time": "2025-10-28T14:15:12.169321Z",
     "start_time": "2025-10-28T14:15:12.167498Z"
    }
   },
   "source": [],
   "outputs": [],
   "execution_count": null
  }
 ],
 "metadata": {
  "kernelspec": {
   "display_name": "Python 3 (ipykernel)",
   "language": "python",
   "name": "python3"
  },
  "language_info": {
   "codemirror_mode": {
    "name": "ipython",
    "version": 3
   },
   "file_extension": ".py",
   "mimetype": "text/x-python",
   "name": "python",
   "nbconvert_exporter": "python",
   "pygments_lexer": "ipython3",
   "version": "3.13.5"
  }
 },
 "nbformat": 4,
 "nbformat_minor": 5
}
