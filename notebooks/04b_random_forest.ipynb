{
 "cells": [
  {
   "cell_type": "code",
   "id": "initial_id",
   "metadata": {
    "collapsed": true,
    "ExecuteTime": {
     "end_time": "2025-10-24T21:00:06.397225Z",
     "start_time": "2025-10-24T21:00:06.317532Z"
    }
   },
   "source": [
    "# Imports and configuration\n",
    "%load_ext autoreload\n",
    "%autoreload 2\n",
    "\n",
    "from sklearn.metrics import f1_score\n",
    "from sklearn.ensemble import RandomForestClassifier\n",
    "import src.helpers.model_helpers as mh\n",
    "from scipy.stats import randint\n",
    "from sklearn.model_selection import RandomizedSearchCV"
   ],
   "outputs": [
    {
     "name": "stdout",
     "output_type": "stream",
     "text": [
      "The autoreload extension is already loaded. To reload it, use:\n",
      "  %reload_ext autoreload\n"
     ]
    }
   ],
   "execution_count": 17
  },
  {
   "metadata": {
    "ExecuteTime": {
     "end_time": "2025-10-24T21:00:12.792873Z",
     "start_time": "2025-10-24T21:00:06.423662Z"
    }
   },
   "cell_type": "code",
   "source": [
    "# Load modeling dataset and the split indices\n",
    "X_train, y_train, X_test, y_test = mh.load_model_dataset()"
   ],
   "id": "2178a1ba55c82091",
   "outputs": [
    {
     "name": "stdout",
     "output_type": "stream",
     "text": [
      "Loading dataset from /Users/c1burns/Documents/UTD/BUAN 6341/project_repo/data/processed/hmda_2024_model.parquet\n"
     ]
    }
   ],
   "execution_count": 18
  },
  {
   "metadata": {},
   "cell_type": "code",
   "outputs": [],
   "execution_count": null,
   "source": [
    "# Create and train model\n",
    "random_forest_classifier = RandomForestClassifier(n_jobs=-1, bootstrap=True, random_state=42)\n",
    "\n",
    "param_grid = {\n",
    "    \"n_estimators\": randint(200, 800),\n",
    "    \"max_depth\": [None, 10, 20, 40],\n",
    "    \"max_features\": [\"sqrt\", 0.3, 0.5],\n",
    "    \"min_samples_split\": randint(2, 21),\n",
    "    \"min_samples_leaf\": randint(1, 9),\n",
    "    \"class_weight\": [None, \"balanced\"],\n",
    "    \"max_samples\": [None, 0.5, 0.7, 0.9],\n",
    "}\n",
    "\n",
    "search = RandomizedSearchCV(\n",
    "    random_forest_classifier,\n",
    "    param_distributions=param_grid,\n",
    "    n_iter=30,\n",
    "    scoring=\"f1\",\n",
    "    cv=3,\n",
    "    random_state=42,\n",
    "    n_jobs=-1,\n",
    ")\n",
    "\n",
    "search.fit(X_train, y_train)"
   ],
   "id": "97b6c1daeec68d2b"
  },
  {
   "metadata": {
    "ExecuteTime": {
     "end_time": "2025-10-25T15:49:23.555874Z",
     "start_time": "2025-10-25T15:49:23.529290Z"
    }
   },
   "cell_type": "code",
   "source": [
    "# Calculate F1 for validation\n",
    "mh.output_cv_summary(search)"
   ],
   "id": "d552cae518837c97",
   "outputs": [
    {
     "name": "stdout",
     "output_type": "stream",
     "text": [
      "Best params: {'class_weight': 'balanced', 'max_depth': 40, 'max_features': 0.3, 'max_samples': 0.7, 'min_samples_leaf': 3, 'min_samples_split': 2, 'n_estimators': 661}\n",
      "Best CV F1: 0.7108821542275495\n"
     ]
    }
   ],
   "execution_count": 22
  },
  {
   "metadata": {
    "ExecuteTime": {
     "end_time": "2025-10-25T15:57:30.450900Z",
     "start_time": "2025-10-25T15:57:30.076985Z"
    }
   },
   "cell_type": "code",
   "source": [
    "# Calculate metrics\n",
    "results = mh.calculate_test_metrics(search, X_test, y_test)\n",
    "\n",
    "# Save metrics to CSV\n",
    "mh.save_metrics_to_csv(results, \"random_forest_metrics_csv\")\n",
    "\n",
    "# Display metrics\n",
    "print(\"Test Performance:\")\n",
    "display(results)"
   ],
   "id": "f29c0538294e7c4",
   "outputs": [
    {
     "name": "stdout",
     "output_type": "stream",
     "text": [
      "Test Performance:\n"
     ]
    },
    {
     "data": {
      "text/plain": [
       "              Score\n",
       "F1         0.721074\n",
       "Accuracy   0.877846\n",
       "Precision  0.794989\n",
       "Recall     0.659735\n",
       "ROC AUC    0.897096\n",
       "PR AUC     0.807997"
      ],
      "text/html": [
       "<div>\n",
       "<style scoped>\n",
       "    .dataframe tbody tr th:only-of-type {\n",
       "        vertical-align: middle;\n",
       "    }\n",
       "\n",
       "    .dataframe tbody tr th {\n",
       "        vertical-align: top;\n",
       "    }\n",
       "\n",
       "    .dataframe thead th {\n",
       "        text-align: right;\n",
       "    }\n",
       "</style>\n",
       "<table border=\"1\" class=\"dataframe\">\n",
       "  <thead>\n",
       "    <tr style=\"text-align: right;\">\n",
       "      <th></th>\n",
       "      <th>Score</th>\n",
       "    </tr>\n",
       "  </thead>\n",
       "  <tbody>\n",
       "    <tr>\n",
       "      <th>F1</th>\n",
       "      <td>0.721074</td>\n",
       "    </tr>\n",
       "    <tr>\n",
       "      <th>Accuracy</th>\n",
       "      <td>0.877846</td>\n",
       "    </tr>\n",
       "    <tr>\n",
       "      <th>Precision</th>\n",
       "      <td>0.794989</td>\n",
       "    </tr>\n",
       "    <tr>\n",
       "      <th>Recall</th>\n",
       "      <td>0.659735</td>\n",
       "    </tr>\n",
       "    <tr>\n",
       "      <th>ROC AUC</th>\n",
       "      <td>0.897096</td>\n",
       "    </tr>\n",
       "    <tr>\n",
       "      <th>PR AUC</th>\n",
       "      <td>0.807997</td>\n",
       "    </tr>\n",
       "  </tbody>\n",
       "</table>\n",
       "</div>"
      ]
     },
     "metadata": {},
     "output_type": "display_data"
    }
   ],
   "execution_count": 23
  },
  {
   "metadata": {},
   "cell_type": "code",
   "outputs": [],
   "execution_count": null,
   "source": "",
   "id": "516bffef880a9c68"
  }
 ],
 "metadata": {
  "kernelspec": {
   "display_name": "Python 3",
   "language": "python",
   "name": "python3"
  },
  "language_info": {
   "codemirror_mode": {
    "name": "ipython",
    "version": 2
   },
   "file_extension": ".py",
   "mimetype": "text/x-python",
   "name": "python",
   "nbconvert_exporter": "python",
   "pygments_lexer": "ipython2",
   "version": "2.7.6"
  }
 },
 "nbformat": 4,
 "nbformat_minor": 5
}
