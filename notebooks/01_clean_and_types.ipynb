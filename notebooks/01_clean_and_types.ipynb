{
 "cells": [
  {
   "cell_type": "code",
   "id": "initial_id",
   "metadata": {
    "collapsed": true,
    "ExecuteTime": {
     "end_time": "2025-10-10T15:23:58.040734Z",
     "start_time": "2025-10-10T15:23:58.005841Z"
    }
   },
   "source": [
    "# Imports and configuration\n",
    "import pandas as pd\n",
    "from src.utils.file_utils import load_config, get_path\n",
    "\n",
    "cfg_clean = load_config(\"clean\")"
   ],
   "outputs": [],
   "execution_count": 29
  },
  {
   "metadata": {
    "ExecuteTime": {
     "end_time": "2025-10-10T15:24:15.215319Z",
     "start_time": "2025-10-10T15:23:58.046818Z"
    }
   },
   "cell_type": "code",
   "source": [
    "# Read in raw data file\n",
    "input_file_path = get_path(\"hmda_raw\")\n",
    "raw_hmda_df = pd.read_parquet(input_file_path)\n",
    "print(raw_hmda_df.shape)"
   ],
   "id": "b1dbb2a25d755bbc",
   "outputs": [
    {
     "name": "stdout",
     "output_type": "stream",
     "text": [
      "(12236879, 85)\n"
     ]
    }
   ],
   "execution_count": 30
  },
  {
   "metadata": {
    "ExecuteTime": {
     "end_time": "2025-10-10T15:24:28.549532Z",
     "start_time": "2025-10-10T15:24:15.243361Z"
    }
   },
   "cell_type": "code",
   "source": [
    "# Drop columns that are not known prior to application except for target\n",
    "features_to_drop = cfg_clean[\"features\"][\"drop\"]\n",
    "raw_hmda_df.drop(columns=features_to_drop, inplace=True)\n",
    "print(raw_hmda_df.shape)"
   ],
   "id": "2a9d9dc344055f58",
   "outputs": [
    {
     "name": "stdout",
     "output_type": "stream",
     "text": [
      "(12236879, 67)\n"
     ]
    }
   ],
   "execution_count": 31
  },
  {
   "metadata": {
    "ExecuteTime": {
     "end_time": "2025-10-10T15:47:17.135021Z",
     "start_time": "2025-10-10T15:43:00.445152Z"
    }
   },
   "cell_type": "code",
   "source": [
    "# Strip leading and trailing whitespace\n",
    "# All columns are currently string values, so we will perform this on all columns regardless of eventual datatype\n",
    "raw_hmda_df = raw_hmda_df.apply(lambda s: s.astype(str).str.strip())"
   ],
   "id": "433f345546831b7b",
   "outputs": [],
   "execution_count": 34
  },
  {
   "metadata": {},
   "cell_type": "code",
   "outputs": [],
   "execution_count": null,
   "source": "",
   "id": "798b87d2d3421f37"
  }
 ],
 "metadata": {
  "kernelspec": {
   "display_name": "Python 3",
   "language": "python",
   "name": "python3"
  },
  "language_info": {
   "codemirror_mode": {
    "name": "ipython",
    "version": 2
   },
   "file_extension": ".py",
   "mimetype": "text/x-python",
   "name": "python",
   "nbconvert_exporter": "python",
   "pygments_lexer": "ipython2",
   "version": "2.7.6"
  }
 },
 "nbformat": 4,
 "nbformat_minor": 5
}
