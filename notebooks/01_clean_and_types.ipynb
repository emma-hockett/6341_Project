{
 "cells": [
  {
   "cell_type": "code",
   "id": "initial_id",
   "metadata": {
    "collapsed": true,
    "ExecuteTime": {
     "end_time": "2025-10-22T19:50:51.205517Z",
     "start_time": "2025-10-22T19:50:51.120538Z"
    }
   },
   "source": [
    "# Imports and configuration\n",
    "%load_ext autoreload\n",
    "%autoreload 2\n",
    "\n",
    "import pandas as pd\n",
    "import src.utils.file_utils as fu\n",
    "import src.utils.schema_utils as su\n",
    "import src.helpers.clean_helpers as chelp\n",
    "\n",
    "cfg_clean = fu.load_config(\"clean\")\n",
    "cfg_schema = fu.load_config(\"schema\")"
   ],
   "outputs": [],
   "execution_count": 1
  },
  {
   "metadata": {
    "ExecuteTime": {
     "end_time": "2025-10-22T19:50:53.169537Z",
     "start_time": "2025-10-22T19:50:51.278347Z"
    }
   },
   "cell_type": "code",
   "source": [
    "# Read in raw data file\n",
    "raw_hmda_df = fu.load_parquet(\"hmda_raw\")\n",
    "print(raw_hmda_df.shape)"
   ],
   "id": "b1dbb2a25d755bbc",
   "outputs": [
    {
     "name": "stdout",
     "output_type": "stream",
     "text": [
      "Loading dataset from /Users/c1burns/Documents/UTD/BUAN 6341/project_repo/data/interim/2024_combined_mlar_header.parquet\n",
      "(12236879, 85)\n"
     ]
    }
   ],
   "execution_count": 2
  },
  {
   "metadata": {
    "ExecuteTime": {
     "end_time": "2025-10-22T19:50:53.199973Z",
     "start_time": "2025-10-22T19:50:53.185650Z"
    }
   },
   "cell_type": "code",
   "source": [
    "# Drop columns that are not known prior to application except for target\n",
    "features_to_drop = su.get_columns_by_attribute(cfg_schema, \"role\", \"drop\")\n",
    "raw_hmda_df.drop(columns=features_to_drop, inplace=True)\n",
    "print(raw_hmda_df.shape)"
   ],
   "id": "2a9d9dc344055f58",
   "outputs": [
    {
     "name": "stdout",
     "output_type": "stream",
     "text": [
      "(12236879, 67)\n"
     ]
    }
   ],
   "execution_count": 3
  },
  {
   "metadata": {
    "ExecuteTime": {
     "end_time": "2025-10-22T19:51:02.020181Z",
     "start_time": "2025-10-22T19:50:53.212501Z"
    }
   },
   "cell_type": "code",
   "source": [
    "# Strip leading and trailing whitespace\n",
    "# All columns are currently string values, so we will perform this on all columns regardless of eventual datatype\n",
    "chelp.strip_string_columns_inplace(raw_hmda_df)"
   ],
   "id": "433f345546831b7b",
   "outputs": [],
   "execution_count": 4
  },
  {
   "metadata": {
    "ExecuteTime": {
     "end_time": "2025-10-22T19:51:54.318748Z",
     "start_time": "2025-10-22T19:51:02.077826Z"
    }
   },
   "cell_type": "code",
   "source": [
    "# Check for null-like values. Using a 1% sample to speed up the check\n",
    "NULL_LIKE = cfg_clean[\"clean\"][\"null_like\"]\n",
    "null_candidates = chelp.null_like_check(raw_hmda_df, NULL_LIKE)\n",
    "null_candidates"
   ],
   "id": "798b87d2d3421f37",
   "outputs": [
    {
     "data": {
      "text/plain": [
       "Series([], Name: null_like_fraction, dtype: object)"
      ]
     },
     "execution_count": 5,
     "metadata": {},
     "output_type": "execute_result"
    }
   ],
   "execution_count": 5
  },
  {
   "metadata": {
    "ExecuteTime": {
     "end_time": "2025-10-22T19:51:54.796659Z",
     "start_time": "2025-10-22T19:51:54.358968Z"
    }
   },
   "cell_type": "code",
   "source": [
    "# Check for columns that contain only null values\n",
    "fully_null_cols = raw_hmda_df.columns[raw_hmda_df.isna().all()]\n",
    "print(\"Columns with only null values: \", fully_null_cols.tolist())"
   ],
   "id": "174a57a1b709849f",
   "outputs": [
    {
     "name": "stdout",
     "output_type": "stream",
     "text": [
      "Columns with only null values:  []\n"
     ]
    }
   ],
   "execution_count": 6
  },
  {
   "metadata": {
    "ExecuteTime": {
     "end_time": "2025-10-22T19:52:22.043495Z",
     "start_time": "2025-10-22T19:51:54.808881Z"
    }
   },
   "cell_type": "code",
   "source": [
    "# Some columns have conflated both an \"Exempt\" flag and the feature value.  We need to identify these columns and separate the exempt flag into its own column\n",
    "\n",
    "# Find the features using exempt\n",
    "features = set(su.get_columns_by_attribute(cfg_schema, \"role\", \"feature\"))\n",
    "exempt  = set(su.get_columns_by_attribute(cfg_schema, \"exempt\", True))\n",
    "exempt_feature_cols = sorted(features & exempt) # We need the intersection so we exclude dropped columns\n",
    "print(\"Features using exempt: \", exempt_feature_cols)\n",
    "\n",
    "# Apply the transformation\n",
    "created_flags = chelp.apply_exempt_split(raw_hmda_df, exempt_feature_cols)\n",
    "print(\"Created: \", created_flags)"
   ],
   "id": "1a05f388db2dcc42",
   "outputs": [
    {
     "name": "stdout",
     "output_type": "stream",
     "text": [
      "Features using exempt:  ['applicant_credit_scoring_model', 'balloon_payment', 'business_or_commercial_purpose', 'co_applicant_credit_scoring_model', 'combined_loan_to_value_ratio', 'county_code', 'debt_to_income_ratio', 'initially_payable_to_institution', 'interest_only_payment', 'intro_rate_period', 'loan_term', 'manufactured_home_secured_property_type', 'multifamily_affordable_units', 'negative_amortization', 'open_end_line_of_credit', 'other_non_amortizing_features', 'prepayment_penalty_term', 'property_value', 'reverse_mortgage', 'submission_of_application']\n",
      "Created:  ['applicant_credit_scoring_model_exempt', 'balloon_payment_exempt', 'business_or_commercial_purpose_exempt', 'co_applicant_credit_scoring_model_exempt', 'combined_loan_to_value_ratio_exempt', 'county_code_exempt', 'debt_to_income_ratio_exempt', 'initially_payable_to_institution_exempt', 'interest_only_payment_exempt', 'intro_rate_period_exempt', 'loan_term_exempt', 'manufactured_home_secured_property_type_exempt', 'multifamily_affordable_units_exempt', 'negative_amortization_exempt', 'open_end_line_of_credit_exempt', 'other_non_amortizing_features_exempt', 'prepayment_penalty_term_exempt', 'property_value_exempt', 'reverse_mortgage_exempt', 'submission_of_application_exempt']\n"
     ]
    }
   ],
   "execution_count": 7
  },
  {
   "metadata": {
    "ExecuteTime": {
     "end_time": "2025-10-22T19:54:49.942544Z",
     "start_time": "2025-10-22T19:52:22.058047Z"
    }
   },
   "cell_type": "code",
   "source": [
    "# We have one exception case with income to clean up before conversion\n",
    "raw_hmda_df[\"income\"] = raw_hmda_df[\"income\"].replace(\"999999999\", pd.NA)\n",
    "\n",
    "# Convert columns to correct data types\n",
    "raw_hmda_df = chelp.convert_by_schema(raw_hmda_df, cfg_schema)\n",
    "print(raw_hmda_df.dtypes)"
   ],
   "id": "e8acd8e4869415a0",
   "outputs": [
    {
     "name": "stdout",
     "output_type": "stream",
     "text": [
      "preapproval: failed to convert to Bool (AttributeError: module 'pandas' has no attribute 'to_bool')\n",
      "construction_method: failed to convert to Bool (AttributeError: module 'pandas' has no attribute 'to_bool')\n",
      "lien_status: failed to convert to Bool (AttributeError: module 'pandas' has no attribute 'to_bool')\n",
      "balloon_payment: failed to convert to Bool (AttributeError: module 'pandas' has no attribute 'to_bool')\n",
      "interest_only_payment: failed to convert to Bool (AttributeError: module 'pandas' has no attribute 'to_bool')\n",
      "negative_amortization: failed to convert to Bool (AttributeError: module 'pandas' has no attribute 'to_bool')\n",
      "other_non_amortizing_features: failed to convert to Bool (AttributeError: module 'pandas' has no attribute 'to_bool')\n",
      "reverse_mortgage: failed to convert to Bool (AttributeError: module 'pandas' has no attribute 'to_bool')\n",
      "open_end_line_of_credit: failed to convert to Bool (AttributeError: module 'pandas' has no attribute 'to_bool')\n",
      "business_or_commercial_purpose: failed to convert to Bool (AttributeError: module 'pandas' has no attribute 'to_bool')\n",
      "activity_year                                     Int16\n",
      "lei                                     string[pyarrow]\n",
      "loan_type                                         Int16\n",
      "loan_purpose                                      Int16\n",
      "preapproval                             string[pyarrow]\n",
      "                                             ...       \n",
      "other_non_amortizing_features_exempt      bool[pyarrow]\n",
      "prepayment_penalty_term_exempt            bool[pyarrow]\n",
      "property_value_exempt                     bool[pyarrow]\n",
      "reverse_mortgage_exempt                   bool[pyarrow]\n",
      "submission_of_application_exempt          bool[pyarrow]\n",
      "Length: 87, dtype: object\n"
     ]
    }
   ],
   "execution_count": 8
  },
  {
   "metadata": {
    "ExecuteTime": {
     "end_time": "2025-10-22T19:54:50.045319Z",
     "start_time": "2025-10-22T19:54:49.968475Z"
    }
   },
   "cell_type": "code",
   "source": [
    "# Identify which features are categorical\n",
    "categorical = set(su.get_columns_by_attribute(cfg_schema, \"type\", \"categorical\"))\n",
    "categorical_feature_cols = sorted(features & categorical) # We need the intersection so we exclude dropped columns\n",
    "print(\"Categorical features: \", categorical_feature_cols)"
   ],
   "id": "2465a68121ed7000",
   "outputs": [
    {
     "name": "stdout",
     "output_type": "stream",
     "text": [
      "Categorical features:  ['action_taken', 'applicant_age', 'applicant_age_above_62', 'applicant_credit_scoring_model', 'applicant_ethnicity_1', 'applicant_ethnicity_2', 'applicant_ethnicity_3', 'applicant_ethnicity_4', 'applicant_ethnicity_5', 'applicant_ethnicity_observed', 'applicant_race_1', 'applicant_race_2', 'applicant_race_3', 'applicant_race_4', 'applicant_race_5', 'applicant_race_observed', 'applicant_sex', 'applicant_sex_observed', 'balloon_payment', 'business_or_commercial_purpose', 'census_tract', 'co_applicant_age', 'co_applicant_age_above_62', 'co_applicant_credit_scoring_model', 'co_applicant_ethnicity_1', 'co_applicant_ethnicity_2', 'co_applicant_ethnicity_3', 'co_applicant_ethnicity_4', 'co_applicant_ethnicity_5', 'co_applicant_ethnicity_observed', 'co_applicant_race_1', 'co_applicant_race_2', 'co_applicant_race_3', 'co_applicant_race_4', 'co_applicant_race_5', 'co_applicant_race_observed', 'co_applicant_sex', 'co_applicant_sex_observed', 'construction_method', 'county_code', 'debt_to_income_ratio', 'initially_payable_to_institution', 'interest_only_payment', 'lien_status', 'loan_purpose', 'loan_type', 'manufactured_home_land_property_interest', 'manufactured_home_secured_property_type', 'negative_amortization', 'occupancy_type', 'open_end_line_of_credit', 'other_non_amortizing_features', 'preapproval', 'prepayment_penalty_term', 'reverse_mortgage', 'state_code', 'submission_of_application', 'total_units']\n"
     ]
    }
   ],
   "execution_count": 9
  },
  {
   "metadata": {
    "ExecuteTime": {
     "end_time": "2025-10-22T19:54:55.479451Z",
     "start_time": "2025-10-22T19:54:50.052846Z"
    }
   },
   "cell_type": "code",
   "source": [
    "# Convert columns to categorical\n",
    "chelp.to_pandas_categoricals(raw_hmda_df, categorical_feature_cols)"
   ],
   "id": "b4abbfaa0c43c4d0",
   "outputs": [],
   "execution_count": 10
  },
  {
   "metadata": {
    "ExecuteTime": {
     "end_time": "2025-10-22T19:54:56.181362Z",
     "start_time": "2025-10-22T19:54:55.562190Z"
    }
   },
   "cell_type": "code",
   "source": [
    "# Checking for illogical or extreme numerical values\n",
    "print(\"Negative/zero loan amounts: \", raw_hmda_df.query(\"loan_amount <= 0\").shape[0])\n",
    "print(\"Negative/zero property values: \", raw_hmda_df.query(\"property_value <= 0\").shape[0])\n",
    "print(\"Negative incomes: \", raw_hmda_df.query(\"income < 0\").shape[0])"
   ],
   "id": "38b1ecf38261f910",
   "outputs": [
    {
     "name": "stdout",
     "output_type": "stream",
     "text": [
      "Negative/zero loan amounts:  0\n",
      "Negative/zero property values:  0\n",
      "Negative incomes:  7757\n"
     ]
    }
   ],
   "execution_count": 11
  },
  {
   "metadata": {
    "ExecuteTime": {
     "end_time": "2025-10-22T19:54:56.299988Z",
     "start_time": "2025-10-22T19:54:56.200567Z"
    }
   },
   "cell_type": "code",
   "source": [
    "# Negative incomes appear to be typos, so correcting values to positive\n",
    "mask = raw_hmda_df[\"income\"] < 0\n",
    "raw_hmda_df.loc[mask, \"income\"] = raw_hmda_df.loc[mask, \"income\"].abs()\n",
    "print(\"Negative incomes: \", raw_hmda_df.query(\"income < 0\").shape[0])"
   ],
   "id": "708f833e3e5adf0a",
   "outputs": [
    {
     "name": "stdout",
     "output_type": "stream",
     "text": [
      "Negative incomes:  0\n"
     ]
    }
   ],
   "execution_count": 12
  },
  {
   "metadata": {
    "ExecuteTime": {
     "end_time": "2025-10-22T19:54:58.670240Z",
     "start_time": "2025-10-22T19:54:56.316625Z"
    }
   },
   "cell_type": "code",
   "source": [
    "# Handling target variable action_taken\n",
    "# There are three categories of codes: approved, denied, and excluded.  The excluded categories are cases where the application was never completed, a borrower withdrew an application before a lending decision, etc.\n",
    "\n",
    "# Getting relevant configs\n",
    "action_cfg = cfg_clean[\"clean\"][\"action_taken\"]\n",
    "approved = set(action_cfg[\"approved\"])\n",
    "denied = set(action_cfg[\"denied\"])\n",
    "valid = approved | denied\n",
    "\n",
    "# Removes excluded observations and creates approved_flag target variable based on approved/denied\n",
    "raw_hmda_df = chelp.apply_action_taken_flag(raw_hmda_df, cfg_clean)\n",
    "\n",
    "# Sanity check result\n",
    "counts = raw_hmda_df[\"denied_flag\"].value_counts(dropna=False)\n",
    "print(\"Approved/Denied breakdown:\")\n",
    "print(counts)"
   ],
   "id": "f8234145bfe91c79",
   "outputs": [
    {
     "name": "stdout",
     "output_type": "stream",
     "text": [
      "Approved/Denied breakdown:\n",
      "denied_flag\n",
      "False    6693164\n",
      "True     2147948\n",
      "Name: count, dtype: int64[pyarrow]\n"
     ]
    }
   ],
   "execution_count": 13
  },
  {
   "metadata": {
    "ExecuteTime": {
     "end_time": "2025-10-22T19:55:06.179922Z",
     "start_time": "2025-10-22T19:54:58.689674Z"
    }
   },
   "cell_type": "code",
   "source": [
    "# Save updated data frame to disk\n",
    "fu.save_parquet(raw_hmda_df, \"hmda_2024_typed\")"
   ],
   "id": "bd273a494bce53f1",
   "outputs": [
    {
     "name": "stdout",
     "output_type": "stream",
     "text": [
      "Saved to /Users/c1burns/Documents/UTD/BUAN 6341/project_repo/data/interim/hmda_2024_typed.parquet\n"
     ]
    },
    {
     "data": {
      "text/plain": [
       "PosixPath('/Users/c1burns/Documents/UTD/BUAN 6341/project_repo/data/interim/hmda_2024_typed.parquet')"
      ]
     },
     "execution_count": 14,
     "metadata": {},
     "output_type": "execute_result"
    }
   ],
   "execution_count": 14
  },
  {
   "metadata": {
    "ExecuteTime": {
     "end_time": "2025-10-22T19:55:08.534448Z",
     "start_time": "2025-10-22T19:55:06.197210Z"
    }
   },
   "cell_type": "code",
   "source": [
    "# Write CSV summary of ending schema\n",
    "chelp.generate_schema_summary(raw_hmda_df, cfg_schema, path_key=\"schema_summary\")"
   ],
   "id": "68dec47f16ec527c",
   "outputs": [
    {
     "name": "stdout",
     "output_type": "stream",
     "text": [
      "Wrote schema summary to /Users/c1burns/Documents/UTD/BUAN 6341/project_repo/docs/schema_summary.csv  (88 columns)\n"
     ]
    },
    {
     "data": {
      "text/plain": [
       "                         column_name        data_type  missing_pct  \\\n",
       "0                      activity_year            Int16          0.0   \n",
       "1                                lei  string[pyarrow]          0.0   \n",
       "2                          loan_type         category          0.0   \n",
       "3                       loan_purpose         category          0.0   \n",
       "4                        preapproval         category          0.0   \n",
       "..                               ...              ...          ...   \n",
       "83    prepayment_penalty_term_exempt    bool[pyarrow]          0.0   \n",
       "84             property_value_exempt    bool[pyarrow]          0.0   \n",
       "85           reverse_mortgage_exempt    bool[pyarrow]          0.0   \n",
       "86  submission_of_application_exempt    bool[pyarrow]          0.0   \n",
       "87                       denied_flag    bool[pyarrow]          0.0   \n",
       "\n",
       "    unique_count          sample_value notes  \n",
       "0              1                  2024        \n",
       "1           4899  5493009V3WNJX9V2GZ85        \n",
       "2              4                     1        \n",
       "3              6                     1        \n",
       "4              2                     2        \n",
       "..           ...                   ...   ...  \n",
       "83             2                 False        \n",
       "84             2                 False        \n",
       "85             2                 False        \n",
       "86             2                 False        \n",
       "87             2                 False        \n",
       "\n",
       "[88 rows x 6 columns]"
      ],
      "text/html": [
       "<div>\n",
       "<style scoped>\n",
       "    .dataframe tbody tr th:only-of-type {\n",
       "        vertical-align: middle;\n",
       "    }\n",
       "\n",
       "    .dataframe tbody tr th {\n",
       "        vertical-align: top;\n",
       "    }\n",
       "\n",
       "    .dataframe thead th {\n",
       "        text-align: right;\n",
       "    }\n",
       "</style>\n",
       "<table border=\"1\" class=\"dataframe\">\n",
       "  <thead>\n",
       "    <tr style=\"text-align: right;\">\n",
       "      <th></th>\n",
       "      <th>column_name</th>\n",
       "      <th>data_type</th>\n",
       "      <th>missing_pct</th>\n",
       "      <th>unique_count</th>\n",
       "      <th>sample_value</th>\n",
       "      <th>notes</th>\n",
       "    </tr>\n",
       "  </thead>\n",
       "  <tbody>\n",
       "    <tr>\n",
       "      <th>0</th>\n",
       "      <td>activity_year</td>\n",
       "      <td>Int16</td>\n",
       "      <td>0.0</td>\n",
       "      <td>1</td>\n",
       "      <td>2024</td>\n",
       "      <td></td>\n",
       "    </tr>\n",
       "    <tr>\n",
       "      <th>1</th>\n",
       "      <td>lei</td>\n",
       "      <td>string[pyarrow]</td>\n",
       "      <td>0.0</td>\n",
       "      <td>4899</td>\n",
       "      <td>5493009V3WNJX9V2GZ85</td>\n",
       "      <td></td>\n",
       "    </tr>\n",
       "    <tr>\n",
       "      <th>2</th>\n",
       "      <td>loan_type</td>\n",
       "      <td>category</td>\n",
       "      <td>0.0</td>\n",
       "      <td>4</td>\n",
       "      <td>1</td>\n",
       "      <td></td>\n",
       "    </tr>\n",
       "    <tr>\n",
       "      <th>3</th>\n",
       "      <td>loan_purpose</td>\n",
       "      <td>category</td>\n",
       "      <td>0.0</td>\n",
       "      <td>6</td>\n",
       "      <td>1</td>\n",
       "      <td></td>\n",
       "    </tr>\n",
       "    <tr>\n",
       "      <th>4</th>\n",
       "      <td>preapproval</td>\n",
       "      <td>category</td>\n",
       "      <td>0.0</td>\n",
       "      <td>2</td>\n",
       "      <td>2</td>\n",
       "      <td></td>\n",
       "    </tr>\n",
       "    <tr>\n",
       "      <th>...</th>\n",
       "      <td>...</td>\n",
       "      <td>...</td>\n",
       "      <td>...</td>\n",
       "      <td>...</td>\n",
       "      <td>...</td>\n",
       "      <td>...</td>\n",
       "    </tr>\n",
       "    <tr>\n",
       "      <th>83</th>\n",
       "      <td>prepayment_penalty_term_exempt</td>\n",
       "      <td>bool[pyarrow]</td>\n",
       "      <td>0.0</td>\n",
       "      <td>2</td>\n",
       "      <td>False</td>\n",
       "      <td></td>\n",
       "    </tr>\n",
       "    <tr>\n",
       "      <th>84</th>\n",
       "      <td>property_value_exempt</td>\n",
       "      <td>bool[pyarrow]</td>\n",
       "      <td>0.0</td>\n",
       "      <td>2</td>\n",
       "      <td>False</td>\n",
       "      <td></td>\n",
       "    </tr>\n",
       "    <tr>\n",
       "      <th>85</th>\n",
       "      <td>reverse_mortgage_exempt</td>\n",
       "      <td>bool[pyarrow]</td>\n",
       "      <td>0.0</td>\n",
       "      <td>2</td>\n",
       "      <td>False</td>\n",
       "      <td></td>\n",
       "    </tr>\n",
       "    <tr>\n",
       "      <th>86</th>\n",
       "      <td>submission_of_application_exempt</td>\n",
       "      <td>bool[pyarrow]</td>\n",
       "      <td>0.0</td>\n",
       "      <td>2</td>\n",
       "      <td>False</td>\n",
       "      <td></td>\n",
       "    </tr>\n",
       "    <tr>\n",
       "      <th>87</th>\n",
       "      <td>denied_flag</td>\n",
       "      <td>bool[pyarrow]</td>\n",
       "      <td>0.0</td>\n",
       "      <td>2</td>\n",
       "      <td>False</td>\n",
       "      <td></td>\n",
       "    </tr>\n",
       "  </tbody>\n",
       "</table>\n",
       "<p>88 rows × 6 columns</p>\n",
       "</div>"
      ]
     },
     "execution_count": 15,
     "metadata": {},
     "output_type": "execute_result"
    }
   ],
   "execution_count": 15
  },
  {
   "metadata": {
    "ExecuteTime": {
     "end_time": "2025-10-22T19:55:08.573645Z",
     "start_time": "2025-10-22T19:55:08.571952Z"
    }
   },
   "cell_type": "code",
   "source": "",
   "id": "573e5df9540f7d85",
   "outputs": [],
   "execution_count": null
  }
 ],
 "metadata": {
  "kernelspec": {
   "display_name": "Python 3",
   "language": "python",
   "name": "python3"
  },
  "language_info": {
   "codemirror_mode": {
    "name": "ipython",
    "version": 2
   },
   "file_extension": ".py",
   "mimetype": "text/x-python",
   "name": "python",
   "nbconvert_exporter": "python",
   "pygments_lexer": "ipython2",
   "version": "2.7.6"
  }
 },
 "nbformat": 4,
 "nbformat_minor": 5
}
