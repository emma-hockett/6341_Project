{
 "cells": [
  {
   "cell_type": "code",
   "id": "initial_id",
   "metadata": {
    "collapsed": true,
    "ExecuteTime": {
     "end_time": "2025-10-10T19:10:36.486576Z",
     "start_time": "2025-10-10T19:10:36.482182Z"
    }
   },
   "source": [
    "# Imports and configuration\n",
    "import pandas as pd\n",
    "import src.utils.file_utils as fu\n",
    "import src.utils.schema_utils as su\n",
    "import src.helpers.clean_helpers as chelp\n",
    "\n",
    "cfg_clean = load_config(\"clean\")\n",
    "cfg_schema = load_config(\"schema\")"
   ],
   "outputs": [],
   "execution_count": 149
  },
  {
   "metadata": {
    "ExecuteTime": {
     "end_time": "2025-10-10T17:23:30.134609Z",
     "start_time": "2025-10-10T17:23:12.281852Z"
    }
   },
   "cell_type": "code",
   "source": [
    "# Read in raw data file\n",
    "input_file_path = fu.get_path(\"hmda_raw\")\n",
    "raw_hmda_df = pd.read_parquet(input_file_path)\n",
    "print(raw_hmda_df.shape)"
   ],
   "id": "b1dbb2a25d755bbc",
   "outputs": [
    {
     "name": "stdout",
     "output_type": "stream",
     "text": [
      "(12236879, 85)\n"
     ]
    }
   ],
   "execution_count": 53
  },
  {
   "metadata": {
    "ExecuteTime": {
     "end_time": "2025-10-10T17:24:00.630505Z",
     "start_time": "2025-10-10T17:23:46.826329Z"
    }
   },
   "cell_type": "code",
   "source": [
    "# Drop columns that are not known prior to application except for target\n",
    "features_to_drop = su.get_columns_by_attribute(cfg_schema, \"role\", \"drop\")\n",
    "raw_hmda_df.drop(columns=features_to_drop, inplace=True)\n",
    "print(raw_hmda_df.shape)"
   ],
   "id": "2a9d9dc344055f58",
   "outputs": [
    {
     "name": "stdout",
     "output_type": "stream",
     "text": [
      "(12236879, 67)\n"
     ]
    }
   ],
   "execution_count": 54
  },
  {
   "metadata": {
    "ExecuteTime": {
     "end_time": "2025-10-10T17:28:28.762517Z",
     "start_time": "2025-10-10T17:24:15.734713Z"
    }
   },
   "cell_type": "code",
   "source": [
    "# Strip leading and trailing whitespace\n",
    "# All columns are currently string values, so we will perform this on all columns regardless of eventual datatype\n",
    "raw_hmda_df = raw_hmda_df.apply(lambda s: s.astype(str).str.strip())"
   ],
   "id": "433f345546831b7b",
   "outputs": [],
   "execution_count": 55
  },
  {
   "metadata": {
    "ExecuteTime": {
     "end_time": "2025-10-10T17:45:33.931986Z",
     "start_time": "2025-10-10T17:41:57.367429Z"
    }
   },
   "cell_type": "code",
   "source": [
    "# Check for null-like values. Using a 1% sample to speed up the check\n",
    "NULL_LIKE = cfg_clean[\"clean\"][\"null_like\"]\n",
    "null_candidates = chelp.quick_null_like_check(raw_hmda_df, NULL_LIKE)\n",
    "null_candidates"
   ],
   "id": "798b87d2d3421f37",
   "outputs": [
    {
     "data": {
      "text/plain": [
       "applicant_ethnicity_5           1.000000\n",
       "co_applicant_ethnicity_5        1.000000\n",
       "co_applicant_ethnicity_4        0.999984\n",
       "applicant_ethnicity_4           0.999967\n",
       "co_applicant_race_5             0.999926\n",
       "co_applicant_race_4             0.999796\n",
       "applicant_race_5                0.999788\n",
       "co_applicant_ethnicity_3        0.999616\n",
       "applicant_race_4                0.999469\n",
       "applicant_ethnicity_3           0.998856\n",
       "co_applicant_race_3             0.998529\n",
       "applicant_race_3                0.996184\n",
       "co_applicant_race_2             0.980763\n",
       "co_applicant_ethnicity_2        0.976489\n",
       "multifamily_affordable_units    0.974528\n",
       "applicant_race_2                0.949129\n",
       "prepayment_penalty_term         0.945550\n",
       "applicant_ethnicity_2           0.936602\n",
       "intro_rate_period               0.791295\n",
       "co_applicant_age_above_62       0.639476\n",
       "debt_to_income_ratio            0.331587\n",
       "combined_loan_to_value_ratio    0.329062\n",
       "property_value                  0.199307\n",
       "income                          0.146900\n",
       "applicant_age_above_62          0.121003\n",
       "census_tract                    0.029713\n",
       "county_code                     0.025202\n",
       "state_code                      0.018101\n",
       "loan_term                       0.016777\n",
       "applicant_ethnicity_1           0.000433\n",
       "applicant_race_1                0.000245\n",
       "co_applicant_ethnicity_1        0.000155\n",
       "co_applicant_race_1             0.000041\n",
       "Name: null_like_fraction, dtype: float64"
      ]
     },
     "execution_count": 61,
     "metadata": {},
     "output_type": "execute_result"
    }
   ],
   "execution_count": 61
  },
  {
   "metadata": {
    "ExecuteTime": {
     "end_time": "2025-10-10T16:06:07.250717Z",
     "start_time": "2025-10-10T16:02:54.998755Z"
    }
   },
   "cell_type": "code",
   "source": [
    "# Replace null-like values with standard value\n",
    "raw_hmda_df[null_candidates.keys()] = (\n",
    "    raw_hmda_df[null_candidates.keys()]\n",
    "    .apply(lambda s: s.str.strip().str.lower().replace(list(NULL_LIKE), pd.NA))\n",
    ")\n",
    "\n",
    "print(\"Completed replacement of null-like values\")"
   ],
   "id": "b0c461c06cf3b47e",
   "outputs": [
    {
     "name": "stdout",
     "output_type": "stream",
     "text": [
      "Completed replacement of null-like values\n"
     ]
    }
   ],
   "execution_count": 36
  },
  {
   "metadata": {
    "ExecuteTime": {
     "end_time": "2025-10-10T17:46:16.707838Z",
     "start_time": "2025-10-10T17:45:37.481189Z"
    }
   },
   "cell_type": "code",
   "source": [
    "# Check for columns that contain only null values\n",
    "fully_null_cols = raw_hmda_df.columns[raw_hmda_df.isna().all()]\n",
    "print(\"Columns with only null values: \", fully_null_cols.tolist())"
   ],
   "id": "174a57a1b709849f",
   "outputs": [
    {
     "name": "stdout",
     "output_type": "stream",
     "text": [
      "Columns with only null values:  []\n"
     ]
    }
   ],
   "execution_count": 62
  },
  {
   "metadata": {
    "ExecuteTime": {
     "end_time": "2025-10-10T19:11:30.454933Z",
     "start_time": "2025-10-10T19:11:09.319093Z"
    }
   },
   "cell_type": "code",
   "source": [
    "# Some columns have conflated both an \"Exempt\" flag and the feature value.  We need to identify these columns and separate the exempt flag into its own column\n",
    "\n",
    "# Find the features using exempt\n",
    "features = set(su.get_columns_by_attribute(cfg_schema, \"role\", \"feature\"))\n",
    "exempt  = set(su.get_columns_by_attribute(cfg_schema, \"exempt\", True))\n",
    "exempt_feature_cols = sorted(features & exempt) # We need the intersection so we exclude dropped columns\n",
    "print(\"Features using exempt: \", exempt_feature_cols)\n",
    "\n",
    "# Apply the transformation\n",
    "created_flags = chelp.apply_exempt_split(raw_hmda_df, exempt_feature_cols)\n",
    "print(\"Created: \", created_flags)"
   ],
   "id": "1a05f388db2dcc42",
   "outputs": [
    {
     "name": "stdout",
     "output_type": "stream",
     "text": [
      "Features using exempt:  ['combined_loan_to_value_ratio', 'county_code', 'debt_to_income_ratio', 'intro_rate_period', 'loan_term', 'multifamily_affordable_units', 'prepayment_penalty_term', 'property_value']\n",
      "Created:  ['combined_loan_to_value_ratio_exempt', 'county_code_exempt', 'debt_to_income_ratio_exempt', 'intro_rate_period_exempt', 'loan_term_exempt', 'multifamily_affordable_units_exempt', 'prepayment_penalty_term_exempt', 'property_value_exempt']\n"
     ]
    }
   ],
   "execution_count": 153
  },
  {
   "metadata": {},
   "cell_type": "code",
   "outputs": [],
   "execution_count": null,
   "source": "",
   "id": "51ce57cf68cc1cc9"
  }
 ],
 "metadata": {
  "kernelspec": {
   "display_name": "Python 3",
   "language": "python",
   "name": "python3"
  },
  "language_info": {
   "codemirror_mode": {
    "name": "ipython",
    "version": 2
   },
   "file_extension": ".py",
   "mimetype": "text/x-python",
   "name": "python",
   "nbconvert_exporter": "python",
   "pygments_lexer": "ipython2",
   "version": "2.7.6"
  }
 },
 "nbformat": 4,
 "nbformat_minor": 5
}
