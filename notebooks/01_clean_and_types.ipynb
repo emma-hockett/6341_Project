{
 "cells": [
  {
   "cell_type": "code",
   "id": "initial_id",
   "metadata": {
    "collapsed": true,
    "ExecuteTime": {
     "end_time": "2025-10-11T12:37:06.438275Z",
     "start_time": "2025-10-11T12:37:06.386440Z"
    }
   },
   "source": [
    "# Imports and configuration\n",
    "%load_ext autoreload\n",
    "%autoreload 2\n",
    "\n",
    "import pandas as pd\n",
    "import src.utils.file_utils as fu\n",
    "import src.utils.schema_utils as su\n",
    "import src.helpers.clean_helpers as chelp\n",
    "\n",
    "cfg_clean = fu.load_config(\"clean\")\n",
    "cfg_schema = fu.load_config(\"schema\")"
   ],
   "outputs": [
    {
     "name": "stdout",
     "output_type": "stream",
     "text": [
      "The autoreload extension is already loaded. To reload it, use:\n",
      "  %reload_ext autoreload\n"
     ]
    }
   ],
   "execution_count": 11
  },
  {
   "metadata": {
    "ExecuteTime": {
     "end_time": "2025-10-11T12:37:11.399435Z",
     "start_time": "2025-10-11T12:37:08.799120Z"
    }
   },
   "cell_type": "code",
   "source": [
    "# Read in raw data file\n",
    "input_file_path = fu.get_path(\"hmda_raw\")\n",
    "raw_hmda_df = pd.read_parquet(input_file_path, dtype_backend=\"pyarrow\")\n",
    "print(raw_hmda_df.shape)"
   ],
   "id": "b1dbb2a25d755bbc",
   "outputs": [
    {
     "name": "stdout",
     "output_type": "stream",
     "text": [
      "(12236879, 85)\n"
     ]
    }
   ],
   "execution_count": 12
  },
  {
   "metadata": {
    "ExecuteTime": {
     "end_time": "2025-10-11T12:37:13.217129Z",
     "start_time": "2025-10-11T12:37:13.187917Z"
    }
   },
   "cell_type": "code",
   "source": [
    "# Drop columns that are not known prior to application except for target\n",
    "features_to_drop = su.get_columns_by_attribute(cfg_schema, \"role\", \"drop\")\n",
    "raw_hmda_df.drop(columns=features_to_drop, inplace=True)\n",
    "print(raw_hmda_df.shape)"
   ],
   "id": "2a9d9dc344055f58",
   "outputs": [
    {
     "name": "stdout",
     "output_type": "stream",
     "text": [
      "(12236879, 67)\n"
     ]
    }
   ],
   "execution_count": 13
  },
  {
   "metadata": {
    "ExecuteTime": {
     "end_time": "2025-10-11T12:37:25.412921Z",
     "start_time": "2025-10-11T12:37:17.320450Z"
    }
   },
   "cell_type": "code",
   "source": [
    "# Strip leading and trailing whitespace\n",
    "# All columns are currently string values, so we will perform this on all columns regardless of eventual datatype\n",
    "chelp.strip_string_columns_inplace(raw_hmda_df)"
   ],
   "id": "433f345546831b7b",
   "outputs": [],
   "execution_count": 14
  },
  {
   "metadata": {
    "ExecuteTime": {
     "end_time": "2025-10-11T12:38:31.398039Z",
     "start_time": "2025-10-11T12:37:35.804411Z"
    }
   },
   "cell_type": "code",
   "source": [
    "# Check for null-like values. Using a 1% sample to speed up the check\n",
    "NULL_LIKE = cfg_clean[\"clean\"][\"null_like\"]\n",
    "null_candidates = chelp.quick_null_like_check(raw_hmda_df, NULL_LIKE)\n",
    "null_candidates"
   ],
   "id": "798b87d2d3421f37",
   "outputs": [
    {
     "data": {
      "text/plain": [
       "Series([], Name: null_like_fraction, dtype: object)"
      ]
     },
     "execution_count": 15,
     "metadata": {},
     "output_type": "execute_result"
    }
   ],
   "execution_count": 15
  },
  {
   "metadata": {
    "ExecuteTime": {
     "end_time": "2025-10-11T12:39:01.727129Z",
     "start_time": "2025-10-11T12:39:01.321644Z"
    }
   },
   "cell_type": "code",
   "source": [
    "# Check for columns that contain only null values\n",
    "fully_null_cols = raw_hmda_df.columns[raw_hmda_df.isna().all()]\n",
    "print(\"Columns with only null values: \", fully_null_cols.tolist())"
   ],
   "id": "174a57a1b709849f",
   "outputs": [
    {
     "name": "stdout",
     "output_type": "stream",
     "text": [
      "Columns with only null values:  []\n"
     ]
    }
   ],
   "execution_count": 16
  },
  {
   "metadata": {
    "ExecuteTime": {
     "end_time": "2025-10-11T12:40:03.259422Z",
     "start_time": "2025-10-11T12:39:53.496257Z"
    }
   },
   "cell_type": "code",
   "source": [
    "# Some columns have conflated both an \"Exempt\" flag and the feature value.  We need to identify these columns and separate the exempt flag into its own column\n",
    "\n",
    "# Find the features using exempt\n",
    "features = set(su.get_columns_by_attribute(cfg_schema, \"role\", \"feature\"))\n",
    "exempt  = set(su.get_columns_by_attribute(cfg_schema, \"exempt\", True))\n",
    "exempt_feature_cols = sorted(features & exempt) # We need the intersection so we exclude dropped columns\n",
    "print(\"Features using exempt: \", exempt_feature_cols)\n",
    "\n",
    "# Apply the transformation\n",
    "created_flags = chelp.apply_exempt_split(raw_hmda_df, exempt_feature_cols)\n",
    "print(\"Created: \", created_flags)"
   ],
   "id": "1a05f388db2dcc42",
   "outputs": [
    {
     "name": "stdout",
     "output_type": "stream",
     "text": [
      "Features using exempt:  ['combined_loan_to_value_ratio', 'county_code', 'debt_to_income_ratio', 'intro_rate_period', 'loan_term', 'multifamily_affordable_units', 'prepayment_penalty_term', 'property_value']\n",
      "Created:  ['combined_loan_to_value_ratio_exempt', 'county_code_exempt', 'debt_to_income_ratio_exempt', 'intro_rate_period_exempt', 'loan_term_exempt', 'multifamily_affordable_units_exempt', 'prepayment_penalty_term_exempt', 'property_value_exempt']\n"
     ]
    }
   ],
   "execution_count": 19
  },
  {
   "metadata": {
    "ExecuteTime": {
     "end_time": "2025-10-11T12:43:19.597758Z",
     "start_time": "2025-10-11T12:40:36.892720Z"
    }
   },
   "cell_type": "code",
   "source": [
    "# We have one exception case with income to clean up before conversion\n",
    "raw_hmda_df[\"income\"] = raw_hmda_df[\"income\"].replace(\"999999999\", pd.NA)\n",
    "\n",
    "# Convert columns to correct data types\n",
    "raw_hmda_df = chelp.convert_by_schema(raw_hmda_df, cfg_schema)\n",
    "print(raw_hmda_df.dtypes)"
   ],
   "id": "e8acd8e4869415a0",
   "outputs": [
    {
     "name": "stdout",
     "output_type": "stream",
     "text": [
      "activity_year                                    Int16\n",
      "lei                                    string[pyarrow]\n",
      "loan_type                                        Int16\n",
      "loan_purpose                                     Int16\n",
      "preapproval                                      Int16\n",
      "                                            ...       \n",
      "intro_rate_period_exempt                 bool[pyarrow]\n",
      "loan_term_exempt                         bool[pyarrow]\n",
      "multifamily_affordable_units_exempt      bool[pyarrow]\n",
      "prepayment_penalty_term_exempt           bool[pyarrow]\n",
      "property_value_exempt                    bool[pyarrow]\n",
      "Length: 75, dtype: object\n"
     ]
    }
   ],
   "execution_count": 21
  },
  {
   "metadata": {
    "ExecuteTime": {
     "end_time": "2025-10-11T13:05:41.765751Z",
     "start_time": "2025-10-11T13:05:41.723884Z"
    }
   },
   "cell_type": "code",
   "source": [
    "# Identify which features are categorical\n",
    "categorical = set(su.get_columns_by_attribute(cfg_schema, \"type\", \"categorical\"))\n",
    "categorical_feature_cols = sorted(features & categorical) # We need the intersection so we exclude dropped columns\n",
    "print(\"Categorical features: \", categorical_feature_cols)"
   ],
   "id": "2465a68121ed7000",
   "outputs": [
    {
     "name": "stdout",
     "output_type": "stream",
     "text": [
      "Categorical features:  ['action_taken', 'applicant_age', 'applicant_age_above_62', 'applicant_credit_scoring_model', 'applicant_ethnicity_1', 'applicant_ethnicity_2', 'applicant_ethnicity_3', 'applicant_ethnicity_4', 'applicant_ethnicity_5', 'applicant_ethnicity_observed', 'applicant_race_1', 'applicant_race_2', 'applicant_race_3', 'applicant_race_4', 'applicant_race_5', 'applicant_race_observed', 'applicant_sex', 'applicant_sex_observed', 'balloon_payment', 'business_or_commercial_purpose', 'co_applicant_age', 'co_applicant_age_above_62', 'co_applicant_credit_scoring_model', 'co_applicant_ethnicity_1', 'co_applicant_ethnicity_2', 'co_applicant_ethnicity_3', 'co_applicant_ethnicity_4', 'co_applicant_ethnicity_5', 'co_applicant_ethnicity_observed', 'co_applicant_race_1', 'co_applicant_race_2', 'co_applicant_race_3', 'co_applicant_race_4', 'co_applicant_race_5', 'co_applicant_race_observed', 'co_applicant_sex', 'co_applicant_sex_observed', 'combined_loan_to_value_ratio', 'construction_method', 'debt_to_income_ratio', 'initially_payable_to_institution', 'interest_only_payment', 'intro_rate_period', 'lien_status', 'loan_purpose', 'loan_term', 'loan_type', 'manufactured_home_land_property_interest', 'manufactured_home_secured_property_type', 'multifamily_affordable_units', 'negative_amortization', 'occupancy_type', 'open_end_line_of_credit', 'other_non_amortizing_features', 'preapproval', 'prepayment_penalty_term', 'reverse_mortgage', 'submission_of_application', 'total_units']\n"
     ]
    }
   ],
   "execution_count": 24
  },
  {
   "metadata": {
    "ExecuteTime": {
     "end_time": "2025-10-11T13:14:15.124893Z",
     "start_time": "2025-10-11T13:14:10.259370Z"
    }
   },
   "cell_type": "code",
   "source": [
    "# Convert columns to categorical\n",
    "chelp.to_pandas_categoricals(raw_hmda_df, categorical_feature_cols)"
   ],
   "id": "b4abbfaa0c43c4d0",
   "outputs": [],
   "execution_count": 25
  },
  {
   "metadata": {
    "ExecuteTime": {
     "end_time": "2025-10-11T13:29:53.949165Z",
     "start_time": "2025-10-11T13:29:53.149964Z"
    }
   },
   "cell_type": "code",
   "source": [
    "# Checking for illogical or extreme numerical values\n",
    "print(\"Negative/zero loan amounts: \", raw_hmda_df.query(\"loan_amount <= 0\").shape[0])\n",
    "print(\"Negative/zero property values: \", raw_hmda_df.query(\"property_value <= 0\").shape[0])\n",
    "print(\"Negative incomes: \", raw_hmda_df.query(\"income < 0\").shape[0])"
   ],
   "id": "38b1ecf38261f910",
   "outputs": [
    {
     "name": "stdout",
     "output_type": "stream",
     "text": [
      "Negative/zero loan amounts:  0\n",
      "Negative/zero property values:  0\n",
      "Negative incomes:  7757\n"
     ]
    }
   ],
   "execution_count": 43
  },
  {
   "metadata": {
    "ExecuteTime": {
     "end_time": "2025-10-11T13:40:40.565579Z",
     "start_time": "2025-10-11T13:40:39.604010Z"
    }
   },
   "cell_type": "code",
   "source": [
    "# Negative incomes appear to be typos, so correcting values to positive\n",
    "mask = raw_hmda_df[\"income\"] < 0\n",
    "raw_hmda_df.loc[mask, \"income\"] = raw_hmda_df.loc[mask, \"income\"].abs()\n",
    "print(\"Negative incomes: \", raw_hmda_df.query(\"income < 0\").shape[0])"
   ],
   "id": "708f833e3e5adf0a",
   "outputs": [
    {
     "name": "stdout",
     "output_type": "stream",
     "text": [
      "Negative incomes:  0\n"
     ]
    }
   ],
   "execution_count": 47
  },
  {
   "metadata": {},
   "cell_type": "code",
   "outputs": [],
   "execution_count": null,
   "source": "",
   "id": "f8234145bfe91c79"
  }
 ],
 "metadata": {
  "kernelspec": {
   "display_name": "Python 3",
   "language": "python",
   "name": "python3"
  },
  "language_info": {
   "codemirror_mode": {
    "name": "ipython",
    "version": 2
   },
   "file_extension": ".py",
   "mimetype": "text/x-python",
   "name": "python",
   "nbconvert_exporter": "python",
   "pygments_lexer": "ipython2",
   "version": "2.7.6"
  }
 },
 "nbformat": 4,
 "nbformat_minor": 5
}
