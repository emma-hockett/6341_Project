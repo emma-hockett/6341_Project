{
 "cells": [
  {
   "cell_type": "code",
   "id": "initial_id",
   "metadata": {
    "collapsed": true,
    "ExecuteTime": {
     "end_time": "2025-10-10T15:23:58.040734Z",
     "start_time": "2025-10-10T15:23:58.005841Z"
    }
   },
   "source": [
    "# Imports and configuration\n",
    "import pandas as pd\n",
    "from src.utils.file_utils import load_config, get_path\n",
    "\n",
    "cfg_clean = load_config(\"clean\")"
   ],
   "outputs": [],
   "execution_count": 29
  },
  {
   "metadata": {
    "ExecuteTime": {
     "end_time": "2025-10-10T15:24:15.215319Z",
     "start_time": "2025-10-10T15:23:58.046818Z"
    }
   },
   "cell_type": "code",
   "source": [
    "# Read in raw data file\n",
    "input_file_path = get_path(\"hmda_raw\")\n",
    "raw_hmda_df = pd.read_parquet(input_file_path)\n",
    "print(raw_hmda_df.shape)"
   ],
   "id": "b1dbb2a25d755bbc",
   "outputs": [
    {
     "name": "stdout",
     "output_type": "stream",
     "text": [
      "(12236879, 85)\n"
     ]
    }
   ],
   "execution_count": 30
  },
  {
   "metadata": {
    "ExecuteTime": {
     "end_time": "2025-10-10T15:24:28.549532Z",
     "start_time": "2025-10-10T15:24:15.243361Z"
    }
   },
   "cell_type": "code",
   "source": [
    "# Drop columns that are not known prior to application except for target\n",
    "features_to_drop = cfg_clean[\"features\"][\"drop\"]\n",
    "raw_hmda_df.drop(columns=features_to_drop, inplace=True)\n",
    "print(raw_hmda_df.shape)"
   ],
   "id": "2a9d9dc344055f58",
   "outputs": [
    {
     "name": "stdout",
     "output_type": "stream",
     "text": [
      "(12236879, 67)\n"
     ]
    }
   ],
   "execution_count": 31
  },
  {
   "metadata": {
    "ExecuteTime": {
     "end_time": "2025-10-10T15:47:17.135021Z",
     "start_time": "2025-10-10T15:43:00.445152Z"
    }
   },
   "cell_type": "code",
   "source": [
    "# Strip leading and trailing whitespace\n",
    "# All columns are currently string values, so we will perform this on all columns regardless of eventual datatype\n",
    "raw_hmda_df = raw_hmda_df.apply(lambda s: s.astype(str).str.strip())"
   ],
   "id": "433f345546831b7b",
   "outputs": [],
   "execution_count": 34
  },
  {
   "metadata": {
    "ExecuteTime": {
     "end_time": "2025-10-10T15:55:40.186802Z",
     "start_time": "2025-10-10T15:51:43.415817Z"
    }
   },
   "cell_type": "code",
   "source": [
    "# Check for null-like values. Using a 1% sample to speed up the check\n",
    "NULL_LIKE = {\"\", \"na\", \"n/a\", \"null\", \"none\", \".\", \"-\", \"--\"}\n",
    "\n",
    "def quick_null_like_check(df, null_like=None, sample_frac=0.01):\n",
    "    null_like = null_like or NULL_LIKE\n",
    "    hits = {}\n",
    "    for col in df.columns:\n",
    "        s = df[col].astype(str).str.strip().str.lower()\n",
    "        if sample_frac < 1.0:\n",
    "            s = s.sample(frac=sample_frac, random_state=0)\n",
    "        mask = s.isin(null_like)\n",
    "        if mask.any():\n",
    "            hits[col] = mask.sum() / len(s)\n",
    "    return pd.Series(hits, name=\"null_like_fraction\").sort_values(ascending=False)\n",
    "\n",
    "null_candidates = quick_null_like_check(raw_hmda_df)\n",
    "null_candidates"
   ],
   "id": "798b87d2d3421f37",
   "outputs": [
    {
     "data": {
      "text/plain": [
       "applicant_ethnicity_5           1.000000\n",
       "co_applicant_ethnicity_5        1.000000\n",
       "co_applicant_ethnicity_4        0.999984\n",
       "applicant_ethnicity_4           0.999967\n",
       "co_applicant_race_5             0.999926\n",
       "co_applicant_race_4             0.999796\n",
       "applicant_race_5                0.999788\n",
       "co_applicant_ethnicity_3        0.999616\n",
       "applicant_race_4                0.999469\n",
       "applicant_ethnicity_3           0.998856\n",
       "co_applicant_race_3             0.998529\n",
       "applicant_race_3                0.996184\n",
       "co_applicant_race_2             0.980763\n",
       "co_applicant_ethnicity_2        0.976489\n",
       "multifamily_affordable_units    0.974528\n",
       "applicant_race_2                0.949129\n",
       "prepayment_penalty_term         0.945550\n",
       "applicant_ethnicity_2           0.936602\n",
       "intro_rate_period               0.791295\n",
       "co_applicant_age_above_62       0.639476\n",
       "debt_to_income_ratio            0.331587\n",
       "combined_loan_to_value_ratio    0.329062\n",
       "property_value                  0.199307\n",
       "income                          0.146900\n",
       "applicant_age_above_62          0.121003\n",
       "census_tract                    0.029713\n",
       "county_code                     0.025202\n",
       "state_code                      0.018101\n",
       "loan_term                       0.016777\n",
       "applicant_ethnicity_1           0.000433\n",
       "applicant_race_1                0.000245\n",
       "co_applicant_ethnicity_1        0.000155\n",
       "co_applicant_race_1             0.000041\n",
       "Name: null_like_fraction, dtype: float64"
      ]
     },
     "execution_count": 35,
     "metadata": {},
     "output_type": "execute_result"
    }
   ],
   "execution_count": 35
  },
  {
   "metadata": {
    "ExecuteTime": {
     "end_time": "2025-10-10T16:06:07.250717Z",
     "start_time": "2025-10-10T16:02:54.998755Z"
    }
   },
   "cell_type": "code",
   "source": [
    "# Replace null-like values with standard value\n",
    "raw_hmda_df[null_candidates.keys()] = (\n",
    "    raw_hmda_df[null_candidates.keys()]\n",
    "    .apply(lambda s: s.str.strip().str.lower().replace(list(NULL_LIKE), pd.NA))\n",
    ")\n",
    "\n",
    "print(\"Completed replacement of null-like values\")"
   ],
   "id": "b0c461c06cf3b47e",
   "outputs": [
    {
     "name": "stdout",
     "output_type": "stream",
     "text": [
      "Completed replacement of null-like values\n"
     ]
    }
   ],
   "execution_count": 36
  },
  {
   "metadata": {},
   "cell_type": "code",
   "outputs": [],
   "execution_count": null,
   "source": "",
   "id": "174a57a1b709849f"
  }
 ],
 "metadata": {
  "kernelspec": {
   "display_name": "Python 3",
   "language": "python",
   "name": "python3"
  },
  "language_info": {
   "codemirror_mode": {
    "name": "ipython",
    "version": 2
   },
   "file_extension": ".py",
   "mimetype": "text/x-python",
   "name": "python",
   "nbconvert_exporter": "python",
   "pygments_lexer": "ipython2",
   "version": "2.7.6"
  }
 },
 "nbformat": 4,
 "nbformat_minor": 5
}
