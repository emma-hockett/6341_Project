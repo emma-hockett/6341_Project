{
 "cells": [
  {
   "cell_type": "code",
   "id": "initial_id",
   "metadata": {
    "collapsed": true,
    "ExecuteTime": {
     "end_time": "2025-10-10T12:53:31.907625Z",
     "start_time": "2025-10-10T12:53:31.901631Z"
    }
   },
   "source": [
    "# Imports and configuration\n",
    "import pandas as pd\n",
    "import yaml\n",
    "from pathlib import Path\n",
    "\n",
    "CONFIG_PATH_FILE_PATHS = Path.cwd().parent / Path(\"configs/paths.yaml\")\n",
    "\n",
    "with open(CONFIG_PATH_FILE_PATHS, \"r\") as f:\n",
    "    cfg_file_paths = yaml.safe_load(f)\n",
    "\n",
    "input_file_path  = Path.cwd().parent / Path(cfg_file_paths[\"hmda_raw\"])"
   ],
   "outputs": [],
   "execution_count": 8
  },
  {
   "metadata": {
    "ExecuteTime": {
     "end_time": "2025-10-10T12:56:05.109287Z",
     "start_time": "2025-10-10T12:53:32.558647Z"
    }
   },
   "cell_type": "code",
   "source": [
    "# Read in raw data file\n",
    "raw_hmda_df = pd.read_parquet(input_file_path)\n",
    "print(raw_hmda_df.shape)"
   ],
   "id": "b1dbb2a25d755bbc",
   "outputs": [
    {
     "name": "stdout",
     "output_type": "stream",
     "text": [
      "(12236879, 85) 42879.972186 MB\n"
     ]
    }
   ],
   "execution_count": 9
  },
  {
   "metadata": {},
   "cell_type": "code",
   "outputs": [],
   "execution_count": null,
   "source": "",
   "id": "2a9d9dc344055f58"
  }
 ],
 "metadata": {
  "kernelspec": {
   "display_name": "Python 3",
   "language": "python",
   "name": "python3"
  },
  "language_info": {
   "codemirror_mode": {
    "name": "ipython",
    "version": 2
   },
   "file_extension": ".py",
   "mimetype": "text/x-python",
   "name": "python",
   "nbconvert_exporter": "python",
   "pygments_lexer": "ipython2",
   "version": "2.7.6"
  }
 },
 "nbformat": 4,
 "nbformat_minor": 5
}
