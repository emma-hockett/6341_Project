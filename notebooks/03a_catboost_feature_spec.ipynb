{
 "cells": [
  {
   "cell_type": "code",
   "id": "initial_id",
   "metadata": {
    "collapsed": true,
    "ExecuteTime": {
     "end_time": "2025-10-30T18:40:07.077845Z",
     "start_time": "2025-10-30T18:40:07.028184Z"
    }
   },
   "source": [
    "# Imports and configuration\n",
    "%load_ext autoreload\n",
    "%autoreload 2\n",
    "\n",
    "import src.utils.file_utils as fu\n",
    "import src.helpers.feature_engineering_helper as feh\n",
    "import pandas as pd\n",
    "import numpy as np\n",
    "\n",
    "cfg_schema = fu.load_config(\"schema\")\n",
    "cfg_feature_engineering = fu.load_config(\"feature_engineering\")"
   ],
   "outputs": [
    {
     "name": "stdout",
     "output_type": "stream",
     "text": [
      "The autoreload extension is already loaded. To reload it, use:\n",
      "  %reload_ext autoreload\n"
     ]
    }
   ],
   "execution_count": 13
  },
  {
   "metadata": {
    "ExecuteTime": {
     "end_time": "2025-10-30T18:40:07.899332Z",
     "start_time": "2025-10-30T18:40:07.098003Z"
    }
   },
   "cell_type": "code",
   "source": [
    "# Read in interim typed data file\n",
    "typed_hmda_data = fu.load_parquet(\"hmda_2024_typed\")\n",
    "print(typed_hmda_data.shape)"
   ],
   "id": "d2dbfa09b930319c",
   "outputs": [
    {
     "name": "stdout",
     "output_type": "stream",
     "text": [
      "Loading dataset from /Users/c1burns/Documents/UTD/BUAN 6341/project_repo/data/interim/hmda_2024_typed.parquet\n",
      "(8841112, 89)\n"
     ]
    }
   ],
   "execution_count": 14
  },
  {
   "metadata": {
    "ExecuteTime": {
     "end_time": "2025-10-30T18:40:07.966439Z",
     "start_time": "2025-10-30T18:40:07.921821Z"
    }
   },
   "cell_type": "code",
   "source": [
    "# Add flag for missing income values\n",
    "typed_hmda_data[\"income_missing\"] = typed_hmda_data[\"income\"].isna().astype(\"int8[pyarrow]\").fillna(-1)"
   ],
   "id": "254ec49cbf9e721e",
   "outputs": [],
   "execution_count": 15
  },
  {
   "metadata": {
    "ExecuteTime": {
     "end_time": "2025-10-30T18:40:11.372077Z",
     "start_time": "2025-10-30T18:40:07.980610Z"
    }
   },
   "cell_type": "code",
   "source": [
    "# Impute values for missing incomes stratified by loan_type using median income to loan amount ratio\n",
    "typed_hmda_data = feh.impute_income(typed_hmda_data)"
   ],
   "id": "45615286ba58dc93",
   "outputs": [],
   "execution_count": 16
  },
  {
   "metadata": {
    "ExecuteTime": {
     "end_time": "2025-10-30T18:40:11.448189Z",
     "start_time": "2025-10-30T18:40:11.399144Z"
    }
   },
   "cell_type": "code",
   "source": [
    "# Add flag for missing property_value values\n",
    "typed_hmda_data[\"property_value_missing\"] = typed_hmda_data[\"property_value\"].isna().astype(\"int8[pyarrow]\").fillna(-1)"
   ],
   "id": "a8af0fbe80150819",
   "outputs": [],
   "execution_count": 17
  },
  {
   "metadata": {
    "ExecuteTime": {
     "end_time": "2025-10-30T18:40:14.981224Z",
     "start_time": "2025-10-30T18:40:11.468467Z"
    }
   },
   "cell_type": "code",
   "source": [
    "# Impute values for missing property_values using median loan to property value\n",
    "typed_hmda_data = feh.impute_property_value(typed_hmda_data)"
   ],
   "id": "2db57220f22ce5d4",
   "outputs": [],
   "execution_count": 18
  },
  {
   "metadata": {
    "ExecuteTime": {
     "end_time": "2025-10-30T18:40:15.121769Z",
     "start_time": "2025-10-30T18:40:15.016070Z"
    }
   },
   "cell_type": "code",
   "source": [
    "# Add loan to income ratio feature\n",
    "typed_hmda_data[\"loan_to_income_ratio\"] = np.where(\n",
    "    typed_hmda_data[\"income\"] > 0,\n",
    "    typed_hmda_data[\"loan_amount\"] / typed_hmda_data[\"income\"],\n",
    "    np.nan\n",
    ")"
   ],
   "id": "5c3b98f8c77fe5bc",
   "outputs": [],
   "execution_count": 19
  },
  {
   "metadata": {
    "ExecuteTime": {
     "end_time": "2025-10-30T18:40:15.193762Z",
     "start_time": "2025-10-30T18:40:15.140310Z"
    }
   },
   "cell_type": "code",
   "source": [
    "# Drop unneeded columns\n",
    "columns_to_drop = [\n",
    "    \"applicant_ethnicity_1\", \"applicant_ethnicity_2\", \"applicant_ethnicity_3\", \"applicant_ethnicity_4\", \"applicant_ethnicity_5\",\n",
    "    \"co_applicant_ethnicity_1\", \"co_applicant_ethnicity_2\", \"co_applicant_ethnicity_3\", \"co_applicant_ethnicity_4\", \"co_applicant_ethnicity_5\",\n",
    "    \"applicant_race_1\", \"applicant_race_2\", \"applicant_race_3\", \"applicant_race_4\", \"applicant_race_5\",\n",
    "    \"co_applicant_race_1\", \"co_applicant_race_2\", \"co_applicant_race_3\", \"co_applicant_race_4\", \"co_applicant_race_5\",\n",
    "    \"action_taken\", \"census_tract\", \"county_code\", \"activity_year\", \"lei\",\n",
    "    # dropped for extremely low correlation with target\n",
    "    \"state_code\", \"multifamily_affordable_units\", \"multifamily_affordable_units_exempt\", \"applicant_age\", \"applicant_age_above_62\", \"balloon_payment\", \"total_units\"\n",
    "]\n",
    "typed_hmda_data.drop(columns=columns_to_drop, inplace=True)"
   ],
   "id": "7a3f71b955f7631c",
   "outputs": [],
   "execution_count": 20
  },
  {
   "metadata": {
    "ExecuteTime": {
     "end_time": "2025-10-30T18:40:15.506968Z",
     "start_time": "2025-10-30T18:40:15.213150Z"
    }
   },
   "cell_type": "code",
   "source": [
    "# For true numerics, fill missing values with median\n",
    "num_cols = [\"combined_loan_to_value_ratio\", \"loan_term\", \"intro_rate_period\", \"prepayment_penalty_term\", \"loan_to_income_ratio\"]\n",
    "typed_hmda_data[num_cols] = typed_hmda_data[num_cols].fillna(typed_hmda_data[num_cols].median())"
   ],
   "id": "2787908c66f5a318",
   "outputs": [],
   "execution_count": 21
  },
  {
   "metadata": {
    "ExecuteTime": {
     "end_time": "2025-10-30T18:40:20.104554Z",
     "start_time": "2025-10-30T18:40:15.526926Z"
    }
   },
   "cell_type": "code",
   "source": [
    "# Output data set to use in modeling\n",
    "fu.save_parquet(typed_hmda_data, \"hmda_2024_model_catboost\")"
   ],
   "id": "25f9eae6cc357a2e",
   "outputs": [
    {
     "name": "stdout",
     "output_type": "stream",
     "text": [
      "Saved to /Users/c1burns/Documents/UTD/BUAN 6341/project_repo/data/processed/hmda_2024_model_catboost.parquet\n"
     ]
    },
    {
     "data": {
      "text/plain": [
       "PosixPath('/Users/c1burns/Documents/UTD/BUAN 6341/project_repo/data/processed/hmda_2024_model_catboost.parquet')"
      ]
     },
     "execution_count": 22,
     "metadata": {},
     "output_type": "execute_result"
    }
   ],
   "execution_count": 22
  },
  {
   "metadata": {
    "ExecuteTime": {
     "end_time": "2025-10-30T18:40:25.589177Z",
     "start_time": "2025-10-30T18:40:20.130486Z"
    }
   },
   "cell_type": "code",
   "source": [
    "# Create indexes for train/test split\n",
    "feh.create_train_test_splits(typed_hmda_data, index_suffix=\"_catboost\")"
   ],
   "id": "a01e3c01855b772d",
   "outputs": [
    {
     "name": "stdout",
     "output_type": "stream",
     "text": [
      "Train indices saved to: /Users/c1burns/Documents/UTD/BUAN 6341/project_repo/data/processed/train_index_catboost.csv/train_index.csv\n",
      "Test indices saved to:  /Users/c1burns/Documents/UTD/BUAN 6341/project_repo/data/processed/test_index_catboost.csv/test_index.csv\n"
     ]
    }
   ],
   "execution_count": 23
  },
  {
   "metadata": {
    "ExecuteTime": {
     "end_time": "2025-10-30T18:40:29.915080Z",
     "start_time": "2025-10-30T18:40:25.605442Z"
    }
   },
   "cell_type": "code",
   "source": [
    "# Load modeling dataset and the split indices\n",
    "modeling_dataset = fu.load_parquet(\"hmda_2024_model_catboost\")\n",
    "train_output_path = fu.get_path(\"train_index_catboost\")\n",
    "test_output_path = fu.get_path(\"test_index_catboost\")\n",
    "train_idx = pd.read_csv(train_output_path)[\"index\"]\n",
    "test_idx  = pd.read_csv(test_output_path)[\"index\"]\n",
    "\n",
    "# Subset the DataFrame\n",
    "train_df = modeling_dataset.loc[train_idx]\n",
    "test_df  = modeling_dataset.loc[test_idx]\n",
    "\n",
    "# Compute class proportions\n",
    "target = \"denied_flag\"\n",
    "\n",
    "print(\"Train class proportions:\")\n",
    "print(train_df[target].value_counts(normalize=True).round(4))\n",
    "\n",
    "print(\"\\nTest class proportions:\")\n",
    "print(test_df[target].value_counts(normalize=True).round(4))\n",
    "\n",
    "print(\"\\nOverall dataset proportions:\")\n",
    "print(modeling_dataset[target].value_counts(normalize=True).round(4))"
   ],
   "id": "799c1310756c52a2",
   "outputs": [
    {
     "name": "stdout",
     "output_type": "stream",
     "text": [
      "Loading dataset from /Users/c1burns/Documents/UTD/BUAN 6341/project_repo/data/processed/hmda_2024_model_catboost.parquet\n",
      "Train class proportions:\n",
      "denied_flag\n",
      "0    0.757\n",
      "1    0.243\n",
      "Name: proportion, dtype: double[pyarrow]\n",
      "\n",
      "Test class proportions:\n",
      "denied_flag\n",
      "0    0.7571\n",
      "1    0.2429\n",
      "Name: proportion, dtype: double[pyarrow]\n",
      "\n",
      "Overall dataset proportions:\n",
      "denied_flag\n",
      "0    0.7571\n",
      "1    0.2429\n",
      "Name: proportion, dtype: double[pyarrow]\n"
     ]
    }
   ],
   "execution_count": 24
  }
 ],
 "metadata": {
  "kernelspec": {
   "display_name": "Python 3",
   "language": "python",
   "name": "python3"
  },
  "language_info": {
   "codemirror_mode": {
    "name": "ipython",
    "version": 2
   },
   "file_extension": ".py",
   "mimetype": "text/x-python",
   "name": "python",
   "nbconvert_exporter": "python",
   "pygments_lexer": "ipython2",
   "version": "2.7.6"
  }
 },
 "nbformat": 4,
 "nbformat_minor": 5
}
