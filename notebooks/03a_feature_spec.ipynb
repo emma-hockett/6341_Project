{
 "cells": [
  {
   "cell_type": "code",
   "id": "initial_id",
   "metadata": {
    "collapsed": true,
    "ExecuteTime": {
     "end_time": "2025-10-25T13:03:11.540464Z",
     "start_time": "2025-10-25T13:03:11.268075Z"
    }
   },
   "source": [
    "# Imports and configuration\n",
    "%load_ext autoreload\n",
    "%autoreload 2\n",
    "\n",
    "import src.utils.file_utils as fu\n",
    "import src.helpers.feature_engineering_helper as feh\n",
    "import pandas as pd\n",
    "\n",
    "cfg_schema = fu.load_config(\"schema\")\n",
    "cfg_feature_engineering = fu.load_config(\"feature_engineering\")"
   ],
   "outputs": [],
   "execution_count": 1
  },
  {
   "metadata": {
    "ExecuteTime": {
     "end_time": "2025-10-25T13:03:12.265702Z",
     "start_time": "2025-10-25T13:03:11.597911Z"
    }
   },
   "cell_type": "code",
   "source": [
    "# Read in interim typed data file\n",
    "typed_hmda_data = fu.load_parquet(\"hmda_2024_typed\")\n",
    "print(typed_hmda_data.shape)"
   ],
   "id": "db3f18219d4788c3",
   "outputs": [
    {
     "name": "stdout",
     "output_type": "stream",
     "text": [
      "Loading dataset from /Users/c1burns/Documents/UTD/BUAN 6341/project_repo/data/interim/hmda_2024_typed.parquet\n",
      "(8841112, 88)\n"
     ]
    }
   ],
   "execution_count": 2
  },
  {
   "metadata": {
    "ExecuteTime": {
     "end_time": "2025-10-25T13:03:21.008546Z",
     "start_time": "2025-10-25T13:03:12.285569Z"
    }
   },
   "cell_type": "code",
   "source": [
    "# Generate multi-hot features for race/ethnicity features\n",
    "feh.generate_multi_hot_features(typed_hmda_data, cfg_feature_engineering, \"applicant_ethnicity_\")\n",
    "feh.generate_multi_hot_features(typed_hmda_data, cfg_feature_engineering, \"co_applicant_ethnicity_\")\n",
    "feh.generate_multi_hot_features(typed_hmda_data, cfg_feature_engineering, \"applicant_race_\")\n",
    "feh.generate_multi_hot_features(typed_hmda_data, cfg_feature_engineering, \"co_applicant_race_\")\n",
    "print(\"Converted multi-hot columns for race/ethnicity\")"
   ],
   "id": "5622ebd20d1222f9",
   "outputs": [
    {
     "name": "stdout",
     "output_type": "stream",
     "text": [
      "Converted multi-hot columns for race/ethnicity\n"
     ]
    }
   ],
   "execution_count": 3
  },
  {
   "metadata": {
    "ExecuteTime": {
     "end_time": "2025-10-25T13:03:21.035969Z",
     "start_time": "2025-10-25T13:03:21.022079Z"
    }
   },
   "cell_type": "code",
   "source": [
    "# Convert multifamily_affordable_units NA to 0\n",
    "typed_hmda_data[\"multifamily_affordable_units\"] = typed_hmda_data[\"multifamily_affordable_units\"].fillna(0)"
   ],
   "id": "a1e75319d6364014",
   "outputs": [],
   "execution_count": 4
  },
  {
   "metadata": {
    "ExecuteTime": {
     "end_time": "2025-10-25T13:03:21.081695Z",
     "start_time": "2025-10-25T13:03:21.047289Z"
    }
   },
   "cell_type": "code",
   "source": [
    "# Add flag for missing income values\n",
    "typed_hmda_data[\"income_missing\"] = typed_hmda_data[\"income\"].isna().astype(\"int8[pyarrow]\").fillna(-1)"
   ],
   "id": "d643a4f508761814",
   "outputs": [],
   "execution_count": 5
  },
  {
   "metadata": {
    "ExecuteTime": {
     "end_time": "2025-10-25T13:03:25.100840Z",
     "start_time": "2025-10-25T13:03:21.093144Z"
    }
   },
   "cell_type": "code",
   "source": [
    "# Impute values for missing incomes stratified by loan_type using median income to loan amount ratio\n",
    "typed_hmda_data = feh.impute_income(typed_hmda_data)"
   ],
   "id": "2a332750cb0ab203",
   "outputs": [],
   "execution_count": 6
  },
  {
   "metadata": {
    "ExecuteTime": {
     "end_time": "2025-10-25T13:03:25.151377Z",
     "start_time": "2025-10-25T13:03:25.117600Z"
    }
   },
   "cell_type": "code",
   "source": [
    "# Add flag for missing property_value values\n",
    "typed_hmda_data[\"property_value_missing\"] = typed_hmda_data[\"property_value\"].isna().astype(\"int8[pyarrow]\").fillna(-1)"
   ],
   "id": "320bc1d8f4b90b33",
   "outputs": [],
   "execution_count": 7
  },
  {
   "metadata": {
    "ExecuteTime": {
     "end_time": "2025-10-25T13:03:29.431765Z",
     "start_time": "2025-10-25T13:03:25.163248Z"
    }
   },
   "cell_type": "code",
   "source": [
    "# Impute values for missing property_values using median loan to property value\n",
    "typed_hmda_data = feh.impute_property_value(typed_hmda_data)"
   ],
   "id": "f9c2736ceca96b3b",
   "outputs": [],
   "execution_count": 8
  },
  {
   "metadata": {
    "ExecuteTime": {
     "end_time": "2025-10-25T13:03:29.504677Z",
     "start_time": "2025-10-25T13:03:29.470366Z"
    }
   },
   "cell_type": "code",
   "source": [
    "# Drop unneeded columns\n",
    "columns_to_drop = [\n",
    "    \"applicant_ethnicity_1\", \"applicant_ethnicity_2\", \"applicant_ethnicity_3\", \"applicant_ethnicity_4\", \"applicant_ethnicity_5\",\n",
    "    \"co_applicant_ethnicity_1\", \"co_applicant_ethnicity_2\", \"co_applicant_ethnicity_3\", \"co_applicant_ethnicity_4\", \"co_applicant_ethnicity_5\",\n",
    "    \"applicant_race_1\", \"applicant_race_2\", \"applicant_race_3\", \"applicant_race_4\", \"applicant_race_5\",\n",
    "    \"co_applicant_race_1\", \"co_applicant_race_2\", \"co_applicant_race_3\", \"co_applicant_race_4\", \"co_applicant_race_5\",\n",
    "    \"action_taken\", \"census_tract\", \"county_code\", \"activity_year\", \"lei\"\n",
    "]\n",
    "typed_hmda_data.drop(columns=columns_to_drop, inplace=True)"
   ],
   "id": "974a40078eb50d6d",
   "outputs": [],
   "execution_count": 9
  },
  {
   "metadata": {
    "ExecuteTime": {
     "end_time": "2025-10-25T13:03:30.479830Z",
     "start_time": "2025-10-25T13:03:29.516071Z"
    }
   },
   "cell_type": "code",
   "source": [
    "# Encode ordinal features\n",
    "typed_hmda_data[\"debt_to_income_ratio\"] = typed_hmda_data[\"debt_to_income_ratio\"].fillna(\"NA\")\n",
    "debt_to_income_ratio_order = [\"<20%\", \"20%-<30%\", \"30%-<36%\", \"36\", \"37\", \"38\", \"39\", \"40\", \"41\", \"42\", \"43\", \"44\", \"45\", \"46\", \"47\", \"48\", \"49\", \"50%-60%\", \">60%\", \"NA\"]\n",
    "debt_to_income_ratio_code = {v: i for i, v in enumerate(debt_to_income_ratio_order)}\n",
    "typed_hmda_data[\"debt_to_income_ratio\"] = typed_hmda_data[\"debt_to_income_ratio\"].map(debt_to_income_ratio_code).astype(\"Int8\")\n",
    "\n",
    "typed_hmda_data[\"total_units\"] = typed_hmda_data[\"total_units\"].fillna(\"NA\")\n",
    "total_units_order = [\"1\", \"2\", \"3\", \"4\", \"5-24\", \"25-49\", \"50-99\", \"100-149\", \">149\"]\n",
    "total_units_code = {v: i for i, v in enumerate(total_units_order)}\n",
    "typed_hmda_data[\"total_units\"] = typed_hmda_data[\"total_units\"].map(total_units_code).astype(\"Int8\")"
   ],
   "id": "6e659146f50d906e",
   "outputs": [],
   "execution_count": 10
  },
  {
   "metadata": {
    "ExecuteTime": {
     "end_time": "2025-10-25T13:03:30.668605Z",
     "start_time": "2025-10-25T13:03:30.491856Z"
    }
   },
   "cell_type": "code",
   "source": [
    "# Fill string missing values with NA for one-hot encoding\n",
    "typed_hmda_data[typed_hmda_data.select_dtypes(include=[\"string\"]).columns] = typed_hmda_data.select_dtypes(include=[\"string\"]).fillna(\"NA\")"
   ],
   "id": "c5c6255c6123422a",
   "outputs": [],
   "execution_count": 11
  },
  {
   "metadata": {
    "ExecuteTime": {
     "end_time": "2025-10-25T13:03:30.794179Z",
     "start_time": "2025-10-25T13:03:30.680278Z"
    }
   },
   "cell_type": "code",
   "source": [
    "# For numerics that are categorical, fill missing values with -1\n",
    "catg_num_cols = [\"applicant_credit_scoring_model\", \"co_applicant_credit_scoring_model\",\"manufactured_home_secured_property_type\", \"submission_of_application\", \"initially_payable_to_institution\"]\n",
    "typed_hmda_data[catg_num_cols] = typed_hmda_data[catg_num_cols].fillna(typed_hmda_data[catg_num_cols].median())"
   ],
   "id": "d89dfb5d1c3716d0",
   "outputs": [],
   "execution_count": 12
  },
  {
   "metadata": {
    "ExecuteTime": {
     "end_time": "2025-10-25T13:03:30.953169Z",
     "start_time": "2025-10-25T13:03:30.805632Z"
    }
   },
   "cell_type": "code",
   "source": [
    "# For true numerics, fill missing values with median\n",
    "num_cols = [\"combined_loan_to_value_ratio\", \"loan_term\", \"intro_rate_period\", \"prepayment_penalty_term\"]\n",
    "typed_hmda_data[num_cols] = typed_hmda_data[num_cols].fillna(typed_hmda_data[num_cols].median())"
   ],
   "id": "308327347407fbc4",
   "outputs": [],
   "execution_count": 13
  },
  {
   "metadata": {
    "ExecuteTime": {
     "end_time": "2025-10-25T13:03:42.857605Z",
     "start_time": "2025-10-25T13:03:30.965146Z"
    }
   },
   "cell_type": "code",
   "source": [
    "# One-hot encoding for categorical features\n",
    "typed_hmda_data = feh.one_hot_encode(typed_hmda_data)"
   ],
   "id": "9fffb6f7973f38c5",
   "outputs": [],
   "execution_count": 14
  },
  {
   "metadata": {
    "ExecuteTime": {
     "end_time": "2025-10-25T13:03:54.618160Z",
     "start_time": "2025-10-25T13:03:42.873254Z"
    }
   },
   "cell_type": "code",
   "source": [
    "# Output data set to use in modeling\n",
    "fu.save_parquet(typed_hmda_data, \"hmda_2024_model\")"
   ],
   "id": "64d2e6384e21c497",
   "outputs": [
    {
     "name": "stdout",
     "output_type": "stream",
     "text": [
      "Saved to /Users/c1burns/Documents/UTD/BUAN 6341/project_repo/data/processed/hmda_2024_model.parquet\n"
     ]
    },
    {
     "data": {
      "text/plain": [
       "PosixPath('/Users/c1burns/Documents/UTD/BUAN 6341/project_repo/data/processed/hmda_2024_model.parquet')"
      ]
     },
     "execution_count": 15,
     "metadata": {},
     "output_type": "execute_result"
    }
   ],
   "execution_count": 15
  },
  {
   "metadata": {
    "ExecuteTime": {
     "end_time": "2025-10-25T13:03:59.771136Z",
     "start_time": "2025-10-25T13:03:54.634971Z"
    }
   },
   "cell_type": "code",
   "source": [
    "# Create indexes for train/test split\n",
    "feh.create_train_test_splits(typed_hmda_data)"
   ],
   "id": "342be46a1b9c91ae",
   "outputs": [
    {
     "name": "stdout",
     "output_type": "stream",
     "text": [
      "Train indices saved to: /Users/c1burns/Documents/UTD/BUAN 6341/project_repo/data/processed/train_index.csv/train_index.csv\n",
      "Test indices saved to:  /Users/c1burns/Documents/UTD/BUAN 6341/project_repo/data/processed/test_index.csv/test_index.csv\n"
     ]
    }
   ],
   "execution_count": 16
  },
  {
   "metadata": {
    "ExecuteTime": {
     "end_time": "2025-10-25T13:04:06.264974Z",
     "start_time": "2025-10-25T13:03:59.787152Z"
    }
   },
   "cell_type": "code",
   "source": [
    "# Load modeling dataset and the split indices\n",
    "modeling_dataset = fu.load_parquet(\"hmda_2024_model\")\n",
    "train_output_path = fu.get_path(\"train_index\")\n",
    "test_output_path = fu.get_path(\"test_index\")\n",
    "train_idx = pd.read_csv(train_output_path)[\"index\"]\n",
    "test_idx  = pd.read_csv(test_output_path)[\"index\"]\n",
    "\n",
    "# Subset the DataFrame\n",
    "train_df = modeling_dataset.loc[train_idx]\n",
    "test_df  = modeling_dataset.loc[test_idx]\n",
    "\n",
    "# Compute class proportions\n",
    "target = \"denied_flag\"\n",
    "\n",
    "print(\"Train class proportions:\")\n",
    "print(train_df[target].value_counts(normalize=True).round(4))\n",
    "\n",
    "print(\"\\nTest class proportions:\")\n",
    "print(test_df[target].value_counts(normalize=True).round(4))\n",
    "\n",
    "print(\"\\nOverall dataset proportions:\")\n",
    "print(modeling_dataset[target].value_counts(normalize=True).round(4))"
   ],
   "id": "bb503ecc5803d9ab",
   "outputs": [
    {
     "name": "stdout",
     "output_type": "stream",
     "text": [
      "Loading dataset from /Users/c1burns/Documents/UTD/BUAN 6341/project_repo/data/processed/hmda_2024_model.parquet\n",
      "Train class proportions:\n",
      "denied_flag\n",
      "0    0.757\n",
      "1    0.243\n",
      "Name: proportion, dtype: double[pyarrow]\n",
      "\n",
      "Test class proportions:\n",
      "denied_flag\n",
      "0    0.7571\n",
      "1    0.2429\n",
      "Name: proportion, dtype: double[pyarrow]\n",
      "\n",
      "Overall dataset proportions:\n",
      "denied_flag\n",
      "0    0.7571\n",
      "1    0.2429\n",
      "Name: proportion, dtype: double[pyarrow]\n"
     ]
    }
   ],
   "execution_count": 17
  },
  {
   "metadata": {
    "ExecuteTime": {
     "end_time": "2025-10-25T13:04:06.332040Z",
     "start_time": "2025-10-25T13:04:06.330396Z"
    }
   },
   "cell_type": "code",
   "source": "",
   "id": "211eb2a8c459fd23",
   "outputs": [],
   "execution_count": null
  }
 ],
 "metadata": {
  "kernelspec": {
   "display_name": "Python 3",
   "language": "python",
   "name": "python3"
  },
  "language_info": {
   "codemirror_mode": {
    "name": "ipython",
    "version": 2
   },
   "file_extension": ".py",
   "mimetype": "text/x-python",
   "name": "python",
   "nbconvert_exporter": "python",
   "pygments_lexer": "ipython2",
   "version": "2.7.6"
  }
 },
 "nbformat": 4,
 "nbformat_minor": 5
}
