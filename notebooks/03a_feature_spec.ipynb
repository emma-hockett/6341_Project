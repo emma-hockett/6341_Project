{
 "cells": [
  {
   "cell_type": "code",
   "id": "initial_id",
   "metadata": {
    "collapsed": true,
    "ExecuteTime": {
     "end_time": "2025-10-30T18:38:57.566674Z",
     "start_time": "2025-10-30T18:38:57.531950Z"
    }
   },
   "source": [
    "# Imports and configuration\n",
    "%load_ext autoreload\n",
    "%autoreload 2\n",
    "\n",
    "import src.utils.file_utils as fu\n",
    "import src.helpers.feature_engineering_helper as feh\n",
    "import pandas as pd\n",
    "import numpy as np\n",
    "\n",
    "cfg_schema = fu.load_config(\"schema\")\n",
    "cfg_feature_engineering = fu.load_config(\"feature_engineering\")"
   ],
   "outputs": [
    {
     "name": "stdout",
     "output_type": "stream",
     "text": [
      "The autoreload extension is already loaded. To reload it, use:\n",
      "  %reload_ext autoreload\n"
     ]
    }
   ],
   "execution_count": 21
  },
  {
   "metadata": {
    "ExecuteTime": {
     "end_time": "2025-10-30T18:38:58.351039Z",
     "start_time": "2025-10-30T18:38:57.595424Z"
    }
   },
   "cell_type": "code",
   "source": [
    "# Read in interim typed data file\n",
    "typed_hmda_data = fu.load_parquet(\"hmda_2024_typed\")\n",
    "print(typed_hmda_data.shape)"
   ],
   "id": "db3f18219d4788c3",
   "outputs": [
    {
     "name": "stdout",
     "output_type": "stream",
     "text": [
      "Loading dataset from /Users/c1burns/Documents/UTD/BUAN 6341/project_repo/data/interim/hmda_2024_typed.parquet\n",
      "(8841112, 89)\n"
     ]
    }
   ],
   "execution_count": 22
  },
  {
   "metadata": {
    "ExecuteTime": {
     "end_time": "2025-10-30T18:39:00.865872Z",
     "start_time": "2025-10-30T18:38:58.366233Z"
    }
   },
   "cell_type": "code",
   "source": [
    "# Generate multi-hot features for race/ethnicity features\n",
    "feh.generate_multi_hot_features(typed_hmda_data, cfg_feature_engineering, \"applicant_ethnicity_\")\n",
    "feh.generate_multi_hot_features(typed_hmda_data, cfg_feature_engineering, \"co_applicant_ethnicity_\")\n",
    "feh.generate_multi_hot_features(typed_hmda_data, cfg_feature_engineering, \"applicant_race_\")\n",
    "feh.generate_multi_hot_features(typed_hmda_data, cfg_feature_engineering, \"co_applicant_race_\")\n",
    "print(\"Converted multi-hot columns for race/ethnicity\")"
   ],
   "id": "5622ebd20d1222f9",
   "outputs": [
    {
     "name": "stdout",
     "output_type": "stream",
     "text": [
      "Converted multi-hot columns for race/ethnicity\n"
     ]
    }
   ],
   "execution_count": 23
  },
  {
   "metadata": {
    "ExecuteTime": {
     "end_time": "2025-10-30T18:39:00.930520Z",
     "start_time": "2025-10-30T18:39:00.909466Z"
    }
   },
   "cell_type": "code",
   "source": [
    "# Convert multifamily_affordable_units NA to 0\n",
    "typed_hmda_data[\"multifamily_affordable_units\"] = typed_hmda_data[\"multifamily_affordable_units\"].fillna(0)"
   ],
   "id": "a1e75319d6364014",
   "outputs": [],
   "execution_count": 24
  },
  {
   "metadata": {
    "ExecuteTime": {
     "end_time": "2025-10-30T18:39:00.999790Z",
     "start_time": "2025-10-30T18:39:00.964007Z"
    }
   },
   "cell_type": "code",
   "source": [
    "# Add flag for missing income values\n",
    "typed_hmda_data[\"income_missing\"] = typed_hmda_data[\"income\"].isna().astype(\"int8[pyarrow]\").fillna(-1)"
   ],
   "id": "d643a4f508761814",
   "outputs": [],
   "execution_count": 25
  },
  {
   "metadata": {
    "ExecuteTime": {
     "end_time": "2025-10-30T18:39:05.178858Z",
     "start_time": "2025-10-30T18:39:01.029440Z"
    }
   },
   "cell_type": "code",
   "source": [
    "# Impute values for missing incomes stratified by loan_type using median income to loan amount ratio\n",
    "typed_hmda_data = feh.impute_income(typed_hmda_data)"
   ],
   "id": "2a332750cb0ab203",
   "outputs": [],
   "execution_count": 26
  },
  {
   "metadata": {
    "ExecuteTime": {
     "end_time": "2025-10-30T18:39:05.274201Z",
     "start_time": "2025-10-30T18:39:05.213374Z"
    }
   },
   "cell_type": "code",
   "source": [
    "# Add flag for missing property_value values\n",
    "typed_hmda_data[\"property_value_missing\"] = typed_hmda_data[\"property_value\"].isna().astype(\"int8[pyarrow]\").fillna(-1)"
   ],
   "id": "320bc1d8f4b90b33",
   "outputs": [],
   "execution_count": 27
  },
  {
   "metadata": {
    "ExecuteTime": {
     "end_time": "2025-10-30T18:39:09.344216Z",
     "start_time": "2025-10-30T18:39:05.326004Z"
    }
   },
   "cell_type": "code",
   "source": [
    "# Impute values for missing property_values using median loan to property value\n",
    "typed_hmda_data = feh.impute_property_value(typed_hmda_data)"
   ],
   "id": "f9c2736ceca96b3b",
   "outputs": [],
   "execution_count": 28
  },
  {
   "metadata": {
    "ExecuteTime": {
     "end_time": "2025-10-30T18:39:09.464963Z",
     "start_time": "2025-10-30T18:39:09.364735Z"
    }
   },
   "cell_type": "code",
   "source": [
    "# Add loan to income ratio feature\n",
    "typed_hmda_data[\"loan_to_income_ratio\"] = np.where(\n",
    "    typed_hmda_data[\"income\"] > 0,\n",
    "    typed_hmda_data[\"loan_amount\"] / typed_hmda_data[\"income\"],\n",
    "    np.nan\n",
    ")"
   ],
   "id": "b53256986256ff95",
   "outputs": [],
   "execution_count": 29
  },
  {
   "metadata": {
    "ExecuteTime": {
     "end_time": "2025-10-30T18:39:09.549457Z",
     "start_time": "2025-10-30T18:39:09.512818Z"
    }
   },
   "cell_type": "code",
   "source": [
    "# Drop unneeded columns\n",
    "columns_to_drop = [\n",
    "    \"applicant_ethnicity_1\", \"applicant_ethnicity_2\", \"applicant_ethnicity_3\", \"applicant_ethnicity_4\", \"applicant_ethnicity_5\",\n",
    "    \"co_applicant_ethnicity_1\", \"co_applicant_ethnicity_2\", \"co_applicant_ethnicity_3\", \"co_applicant_ethnicity_4\", \"co_applicant_ethnicity_5\",\n",
    "    \"applicant_race_1\", \"applicant_race_2\", \"applicant_race_3\", \"applicant_race_4\", \"applicant_race_5\",\n",
    "    \"co_applicant_race_1\", \"co_applicant_race_2\", \"co_applicant_race_3\", \"co_applicant_race_4\", \"co_applicant_race_5\",\n",
    "    \"action_taken\", \"census_tract\", \"county_code\", \"activity_year\", \"lei\",\n",
    "    # dropped for extremely low correlation with target\n",
    "    \"state_code\", \"multifamily_affordable_units\", \"multifamily_affordable_units_exempt\", \"applicant_age\", \"applicant_age_above_62\", \"balloon_payment\", \"total_units\"\n",
    "]\n",
    "typed_hmda_data.drop(columns=columns_to_drop, inplace=True)"
   ],
   "id": "974a40078eb50d6d",
   "outputs": [],
   "execution_count": 30
  },
  {
   "metadata": {
    "ExecuteTime": {
     "end_time": "2025-10-30T18:39:09.741161Z",
     "start_time": "2025-10-30T18:39:09.563293Z"
    }
   },
   "cell_type": "code",
   "source": [
    "# Fill string missing values with NA for one-hot encoding\n",
    "typed_hmda_data[typed_hmda_data.select_dtypes(include=[\"string\"]).columns] = typed_hmda_data.select_dtypes(include=[\"string\"]).fillna(\"NA\")"
   ],
   "id": "c5c6255c6123422a",
   "outputs": [],
   "execution_count": 31
  },
  {
   "metadata": {
    "ExecuteTime": {
     "end_time": "2025-10-30T18:39:09.921301Z",
     "start_time": "2025-10-30T18:39:09.793170Z"
    }
   },
   "cell_type": "code",
   "source": [
    "# For numerics that are categorical, fill missing values with -1\n",
    "catg_num_cols = [\"applicant_credit_scoring_model\", \"co_applicant_credit_scoring_model\",\"manufactured_home_secured_property_type\", \"submission_of_application\", \"initially_payable_to_institution\"]\n",
    "typed_hmda_data[catg_num_cols] = typed_hmda_data[catg_num_cols].fillna(typed_hmda_data[catg_num_cols].median())"
   ],
   "id": "d89dfb5d1c3716d0",
   "outputs": [],
   "execution_count": 32
  },
  {
   "metadata": {
    "ExecuteTime": {
     "end_time": "2025-10-30T18:39:10.221737Z",
     "start_time": "2025-10-30T18:39:09.954850Z"
    }
   },
   "cell_type": "code",
   "source": [
    "# For true numerics, fill missing values with median\n",
    "num_cols = [\"combined_loan_to_value_ratio\", \"loan_term\", \"intro_rate_period\", \"prepayment_penalty_term\", \"loan_to_income_ratio\"]\n",
    "typed_hmda_data[num_cols] = typed_hmda_data[num_cols].fillna(typed_hmda_data[num_cols].median())"
   ],
   "id": "308327347407fbc4",
   "outputs": [],
   "execution_count": 33
  },
  {
   "metadata": {
    "ExecuteTime": {
     "end_time": "2025-10-30T18:39:23.357347Z",
     "start_time": "2025-10-30T18:39:10.260870Z"
    }
   },
   "cell_type": "code",
   "source": [
    "# One-hot encoding for categorical features\n",
    "typed_hmda_data = feh.one_hot_encode_columns(typed_hmda_data, cfg_feature_engineering)"
   ],
   "id": "9fffb6f7973f38c5",
   "outputs": [],
   "execution_count": 34
  },
  {
   "metadata": {
    "ExecuteTime": {
     "end_time": "2025-10-30T18:39:23.654546Z",
     "start_time": "2025-10-30T18:39:23.393614Z"
    }
   },
   "cell_type": "code",
   "source": [
    "# Add interaction terms\n",
    "typed_hmda_data[\"debt_to_income_ratio_60100_x_loan_to_income_ratio\"] = typed_hmda_data[\"debt_to_income_ratio_60100\"] * typed_hmda_data[\"loan_to_income_ratio\"]\n",
    "typed_hmda_data[\"debt_to_income_ratio_5060_x_loan_to_income_ratio\"] = typed_hmda_data[\"debt_to_income_ratio_5060\"] * typed_hmda_data[\"loan_to_income_ratio\"]\n",
    "typed_hmda_data[\"debt_to_income_ratio_4850_x_loan_to_income_ratio\"] = typed_hmda_data[\"debt_to_income_ratio_4850\"] * typed_hmda_data[\"loan_to_income_ratio\"]\n",
    "typed_hmda_data[\"debt_to_income_ratio_4547_x_loan_to_income_ratio\"] = typed_hmda_data[\"debt_to_income_ratio_4547\"] * typed_hmda_data[\"loan_to_income_ratio\"]"
   ],
   "id": "c7da370c54fd0d75",
   "outputs": [],
   "execution_count": 35
  },
  {
   "metadata": {
    "ExecuteTime": {
     "end_time": "2025-10-30T18:39:36.369072Z",
     "start_time": "2025-10-30T18:39:23.705863Z"
    }
   },
   "cell_type": "code",
   "source": [
    "# Output data set to use in modeling\n",
    "fu.save_parquet(typed_hmda_data, \"hmda_2024_model\")"
   ],
   "id": "64d2e6384e21c497",
   "outputs": [
    {
     "name": "stdout",
     "output_type": "stream",
     "text": [
      "Saved to /Users/c1burns/Documents/UTD/BUAN 6341/project_repo/data/processed/hmda_2024_model.parquet\n"
     ]
    },
    {
     "data": {
      "text/plain": [
       "PosixPath('/Users/c1burns/Documents/UTD/BUAN 6341/project_repo/data/processed/hmda_2024_model.parquet')"
      ]
     },
     "execution_count": 36,
     "metadata": {},
     "output_type": "execute_result"
    }
   ],
   "execution_count": 36
  },
  {
   "metadata": {
    "ExecuteTime": {
     "end_time": "2025-10-30T18:39:42.012878Z",
     "start_time": "2025-10-30T18:39:36.416593Z"
    }
   },
   "cell_type": "code",
   "source": [
    "# Create indexes for train/test split\n",
    "feh.create_train_test_splits(typed_hmda_data)"
   ],
   "id": "342be46a1b9c91ae",
   "outputs": [
    {
     "name": "stdout",
     "output_type": "stream",
     "text": [
      "Train indices saved to: /Users/c1burns/Documents/UTD/BUAN 6341/project_repo/data/processed/train_index.csv/train_index.csv\n",
      "Test indices saved to:  /Users/c1burns/Documents/UTD/BUAN 6341/project_repo/data/processed/test_index.csv/test_index.csv\n"
     ]
    }
   ],
   "execution_count": 37
  },
  {
   "metadata": {
    "ExecuteTime": {
     "end_time": "2025-10-30T18:39:48.568267Z",
     "start_time": "2025-10-30T18:39:42.045640Z"
    }
   },
   "cell_type": "code",
   "source": [
    "# Load modeling dataset and the split indices\n",
    "modeling_dataset = fu.load_parquet(\"hmda_2024_model\")\n",
    "train_output_path = fu.get_path(\"train_index\")\n",
    "test_output_path = fu.get_path(\"test_index\")\n",
    "train_idx = pd.read_csv(train_output_path)[\"index\"]\n",
    "test_idx  = pd.read_csv(test_output_path)[\"index\"]\n",
    "\n",
    "# Subset the DataFrame\n",
    "train_df = modeling_dataset.loc[train_idx]\n",
    "test_df  = modeling_dataset.loc[test_idx]\n",
    "\n",
    "# Compute class proportions\n",
    "target = \"denied_flag\"\n",
    "\n",
    "print(\"Train class proportions:\")\n",
    "print(train_df[target].value_counts(normalize=True).round(4))\n",
    "\n",
    "print(\"\\nTest class proportions:\")\n",
    "print(test_df[target].value_counts(normalize=True).round(4))\n",
    "\n",
    "print(\"\\nOverall dataset proportions:\")\n",
    "print(modeling_dataset[target].value_counts(normalize=True).round(4))"
   ],
   "id": "bb503ecc5803d9ab",
   "outputs": [
    {
     "name": "stdout",
     "output_type": "stream",
     "text": [
      "Loading dataset from /Users/c1burns/Documents/UTD/BUAN 6341/project_repo/data/processed/hmda_2024_model.parquet\n",
      "Train class proportions:\n",
      "denied_flag\n",
      "0    0.757\n",
      "1    0.243\n",
      "Name: proportion, dtype: double[pyarrow]\n",
      "\n",
      "Test class proportions:\n",
      "denied_flag\n",
      "0    0.7571\n",
      "1    0.2429\n",
      "Name: proportion, dtype: double[pyarrow]\n",
      "\n",
      "Overall dataset proportions:\n",
      "denied_flag\n",
      "0    0.7571\n",
      "1    0.2429\n",
      "Name: proportion, dtype: double[pyarrow]\n"
     ]
    }
   ],
   "execution_count": 38
  },
  {
   "metadata": {
    "ExecuteTime": {
     "end_time": "2025-10-30T18:39:50.024951Z",
     "start_time": "2025-10-30T18:39:48.623476Z"
    }
   },
   "cell_type": "code",
   "source": "test_df = typed_hmda_data.sample(frac=0.005, random_state=42)",
   "id": "211eb2a8c459fd23",
   "outputs": [],
   "execution_count": 39
  },
  {
   "metadata": {
    "ExecuteTime": {
     "end_time": "2025-10-30T18:39:52.044470Z",
     "start_time": "2025-10-30T18:39:50.065292Z"
    }
   },
   "cell_type": "code",
   "source": [
    "import src.helpers.eda_helpers as eh\n",
    "eh.identify_feature_target_correlations(test_df, test_df.columns, 'denied_flag')"
   ],
   "id": "9cc82a818d168243",
   "outputs": [
    {
     "data": {
      "text/plain": [
       "                                               feature  cramers_v\n",
       "27                                         denied_flag   0.999938\n",
       "3                         combined_loan_to_value_ratio   0.686217\n",
       "43                                loan_to_income_ratio   0.536132\n",
       "145  debt_to_income_ratio_60100_x_loan_to_income_ratio   0.454297\n",
       "100                         debt_to_income_ratio_60100   0.429308\n",
       "..                                                 ...        ...\n",
       "86                 co_applicant_sex_observed_collected   0.005750\n",
       "127                         negative_amortization_True   0.005054\n",
       "130                           occupancy_type_secondary   0.003089\n",
       "136                 other_non_amortizing_features_True   0.001150\n",
       "114                        loan_purpose_not_applicable   0.000000\n",
       "\n",
       "[149 rows x 2 columns]"
      ],
      "text/html": [
       "<div>\n",
       "<style scoped>\n",
       "    .dataframe tbody tr th:only-of-type {\n",
       "        vertical-align: middle;\n",
       "    }\n",
       "\n",
       "    .dataframe tbody tr th {\n",
       "        vertical-align: top;\n",
       "    }\n",
       "\n",
       "    .dataframe thead th {\n",
       "        text-align: right;\n",
       "    }\n",
       "</style>\n",
       "<table border=\"1\" class=\"dataframe\">\n",
       "  <thead>\n",
       "    <tr style=\"text-align: right;\">\n",
       "      <th></th>\n",
       "      <th>feature</th>\n",
       "      <th>cramers_v</th>\n",
       "    </tr>\n",
       "  </thead>\n",
       "  <tbody>\n",
       "    <tr>\n",
       "      <th>27</th>\n",
       "      <td>denied_flag</td>\n",
       "      <td>0.999938</td>\n",
       "    </tr>\n",
       "    <tr>\n",
       "      <th>3</th>\n",
       "      <td>combined_loan_to_value_ratio</td>\n",
       "      <td>0.686217</td>\n",
       "    </tr>\n",
       "    <tr>\n",
       "      <th>43</th>\n",
       "      <td>loan_to_income_ratio</td>\n",
       "      <td>0.536132</td>\n",
       "    </tr>\n",
       "    <tr>\n",
       "      <th>145</th>\n",
       "      <td>debt_to_income_ratio_60100_x_loan_to_income_ratio</td>\n",
       "      <td>0.454297</td>\n",
       "    </tr>\n",
       "    <tr>\n",
       "      <th>100</th>\n",
       "      <td>debt_to_income_ratio_60100</td>\n",
       "      <td>0.429308</td>\n",
       "    </tr>\n",
       "    <tr>\n",
       "      <th>...</th>\n",
       "      <td>...</td>\n",
       "      <td>...</td>\n",
       "    </tr>\n",
       "    <tr>\n",
       "      <th>86</th>\n",
       "      <td>co_applicant_sex_observed_collected</td>\n",
       "      <td>0.005750</td>\n",
       "    </tr>\n",
       "    <tr>\n",
       "      <th>127</th>\n",
       "      <td>negative_amortization_True</td>\n",
       "      <td>0.005054</td>\n",
       "    </tr>\n",
       "    <tr>\n",
       "      <th>130</th>\n",
       "      <td>occupancy_type_secondary</td>\n",
       "      <td>0.003089</td>\n",
       "    </tr>\n",
       "    <tr>\n",
       "      <th>136</th>\n",
       "      <td>other_non_amortizing_features_True</td>\n",
       "      <td>0.001150</td>\n",
       "    </tr>\n",
       "    <tr>\n",
       "      <th>114</th>\n",
       "      <td>loan_purpose_not_applicable</td>\n",
       "      <td>0.000000</td>\n",
       "    </tr>\n",
       "  </tbody>\n",
       "</table>\n",
       "<p>149 rows × 2 columns</p>\n",
       "</div>"
      ]
     },
     "execution_count": 40,
     "metadata": {},
     "output_type": "execute_result"
    }
   ],
   "execution_count": 40
  },
  {
   "metadata": {
    "ExecuteTime": {
     "end_time": "2025-10-30T18:39:52.165700Z",
     "start_time": "2025-10-30T18:39:52.164349Z"
    }
   },
   "cell_type": "code",
   "source": "",
   "id": "fc3963635126b427",
   "outputs": [],
   "execution_count": null
  }
 ],
 "metadata": {
  "kernelspec": {
   "display_name": "Python 3",
   "language": "python",
   "name": "python3"
  },
  "language_info": {
   "codemirror_mode": {
    "name": "ipython",
    "version": 2
   },
   "file_extension": ".py",
   "mimetype": "text/x-python",
   "name": "python",
   "nbconvert_exporter": "python",
   "pygments_lexer": "ipython2",
   "version": "2.7.6"
  }
 },
 "nbformat": 4,
 "nbformat_minor": 5
}
