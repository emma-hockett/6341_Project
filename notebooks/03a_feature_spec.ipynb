{
 "cells": [
  {
   "cell_type": "code",
   "id": "initial_id",
   "metadata": {
    "collapsed": true,
    "ExecuteTime": {
     "end_time": "2025-10-23T19:11:26.626359Z",
     "start_time": "2025-10-23T19:11:26.535154Z"
    }
   },
   "source": [
    "# Imports and configuration\n",
    "%load_ext autoreload\n",
    "%autoreload 2\n",
    "\n",
    "import src.utils.file_utils as fu\n",
    "import src.helpers.feature_engineering_helper as feh\n",
    "import pandas as pd\n",
    "\n",
    "cfg_schema = fu.load_config(\"schema\")\n",
    "cfg_feature_engineering = fu.load_config(\"feature_engineering\")"
   ],
   "outputs": [
    {
     "name": "stdout",
     "output_type": "stream",
     "text": [
      "The autoreload extension is already loaded. To reload it, use:\n",
      "  %reload_ext autoreload\n"
     ]
    }
   ],
   "execution_count": 12
  },
  {
   "metadata": {
    "ExecuteTime": {
     "end_time": "2025-10-23T19:07:35.944780Z",
     "start_time": "2025-10-23T19:07:35.445080Z"
    }
   },
   "cell_type": "code",
   "source": [
    "# Read in interim typed data file\n",
    "typed_hmda_data = fu.load_parquet(\"hmda_2024_typed\")\n",
    "print(typed_hmda_data.shape)"
   ],
   "id": "db3f18219d4788c3",
   "outputs": [
    {
     "name": "stdout",
     "output_type": "stream",
     "text": [
      "Loading dataset from /Users/c1burns/Documents/UTD/BUAN 6341/project_repo/data/interim/hmda_2024_typed.parquet\n",
      "(8841112, 88)\n"
     ]
    }
   ],
   "execution_count": 2
  },
  {
   "metadata": {
    "ExecuteTime": {
     "end_time": "2025-10-23T19:07:44.076697Z",
     "start_time": "2025-10-23T19:07:35.959023Z"
    }
   },
   "cell_type": "code",
   "source": [
    "# Generate multi-hot features for race/ethnicity features\n",
    "feh.generate_multi_hot_features(typed_hmda_data, cfg_feature_engineering, \"applicant_ethnicity_\")\n",
    "feh.generate_multi_hot_features(typed_hmda_data, cfg_feature_engineering, \"co_applicant_ethnicity_\")\n",
    "feh.generate_multi_hot_features(typed_hmda_data, cfg_feature_engineering, \"applicant_race_\")\n",
    "feh.generate_multi_hot_features(typed_hmda_data, cfg_feature_engineering, \"co_applicant_race_\")\n",
    "print(\"Converted multi-hot columns for race/ethnicity\")"
   ],
   "id": "5622ebd20d1222f9",
   "outputs": [
    {
     "name": "stdout",
     "output_type": "stream",
     "text": [
      "Converted multi-hot columns for race/ethnicity\n"
     ]
    }
   ],
   "execution_count": 3
  },
  {
   "metadata": {
    "ExecuteTime": {
     "end_time": "2025-10-23T19:07:44.126851Z",
     "start_time": "2025-10-23T19:07:44.093124Z"
    }
   },
   "cell_type": "code",
   "source": [
    "# Convert multifamily_affordable_units to binary because well over 99% are NA/0\n",
    "typed_hmda_data[\"multifamily_affordable_units\"] = (\n",
    "    typed_hmda_data[\"multifamily_affordable_units\"]\n",
    "        .fillna(0)\n",
    "        .gt(0)\n",
    "        .astype(\"boolean[pyarrow]\")\n",
    ")"
   ],
   "id": "a1e75319d6364014",
   "outputs": [],
   "execution_count": 4
  },
  {
   "metadata": {
    "ExecuteTime": {
     "end_time": "2025-10-23T19:07:44.163413Z",
     "start_time": "2025-10-23T19:07:44.139255Z"
    }
   },
   "cell_type": "code",
   "source": [
    "# Add binary flag for missing income values\n",
    "typed_hmda_data[\"income_missing\"] = typed_hmda_data[\"income\"].isna().astype(\"boolean[pyarrow]\")"
   ],
   "id": "d643a4f508761814",
   "outputs": [],
   "execution_count": 5
  },
  {
   "metadata": {
    "ExecuteTime": {
     "end_time": "2025-10-23T19:07:48.037840Z",
     "start_time": "2025-10-23T19:07:44.175752Z"
    }
   },
   "cell_type": "code",
   "source": [
    "# Impute values for missing incomes stratified by loan_type using median income to loan amount ratio\n",
    "typed_hmda_data = feh.impute_income(typed_hmda_data)"
   ],
   "id": "2a332750cb0ab203",
   "outputs": [],
   "execution_count": 6
  },
  {
   "metadata": {
    "ExecuteTime": {
     "end_time": "2025-10-23T19:07:48.077445Z",
     "start_time": "2025-10-23T19:07:48.051319Z"
    }
   },
   "cell_type": "code",
   "source": [
    "# Add binary flag for missing property_value values\n",
    "typed_hmda_data[\"property_value_missing\"] = typed_hmda_data[\"property_value\"].isna().astype(\"boolean[pyarrow]\")"
   ],
   "id": "320bc1d8f4b90b33",
   "outputs": [],
   "execution_count": 7
  },
  {
   "metadata": {
    "ExecuteTime": {
     "end_time": "2025-10-23T19:07:51.942736Z",
     "start_time": "2025-10-23T19:07:48.090448Z"
    }
   },
   "cell_type": "code",
   "source": [
    "# Impute values for missing property_values using median loan to property value\n",
    "typed_hmda_data = feh.impute_property_value(typed_hmda_data)"
   ],
   "id": "f9c2736ceca96b3b",
   "outputs": [],
   "execution_count": 8
  },
  {
   "metadata": {
    "ExecuteTime": {
     "end_time": "2025-10-23T19:07:51.972825Z",
     "start_time": "2025-10-23T19:07:51.959145Z"
    }
   },
   "cell_type": "code",
   "source": [
    "# Drop unneeded columns\n",
    "columns_to_drop = [\n",
    "    \"applicant_ethnicity_1\", \"applicant_ethnicity_2\", \"applicant_ethnicity_3\", \"applicant_ethnicity_4\", \"applicant_ethnicity_5\",\n",
    "    \"co_applicant_ethnicity_1\", \"co_applicant_ethnicity_2\", \"co_applicant_ethnicity_3\", \"co_applicant_ethnicity_4\", \"co_applicant_ethnicity_5\",\n",
    "    \"applicant_race_1\", \"applicant_race_2\", \"applicant_race_3\", \"applicant_race_4\", \"applicant_race_5\",\n",
    "    \"co_applicant_race_1\", \"co_applicant_race_2\", \"co_applicant_race_3\", \"co_applicant_race_4\", \"co_applicant_race_5\",\n",
    "    \"action_taken\", \"census_tract\", \"county_code\", \"activity_year\"\n",
    "]\n",
    "typed_hmda_data.drop(columns=columns_to_drop, inplace=True)"
   ],
   "id": "974a40078eb50d6d",
   "outputs": [],
   "execution_count": 9
  },
  {
   "metadata": {
    "ExecuteTime": {
     "end_time": "2025-10-23T19:08:00.364795Z",
     "start_time": "2025-10-23T19:07:51.986001Z"
    }
   },
   "cell_type": "code",
   "source": [
    "# Output data set to use in modeling\n",
    "fu.save_parquet(typed_hmda_data, \"hmda_2024_model\")"
   ],
   "id": "64d2e6384e21c497",
   "outputs": [
    {
     "name": "stdout",
     "output_type": "stream",
     "text": [
      "Saved to /Users/c1burns/Documents/UTD/BUAN 6341/project_repo/data/processed/hmda_2024_model.parquet\n"
     ]
    },
    {
     "data": {
      "text/plain": [
       "PosixPath('/Users/c1burns/Documents/UTD/BUAN 6341/project_repo/data/processed/hmda_2024_model.parquet')"
      ]
     },
     "execution_count": 10,
     "metadata": {},
     "output_type": "execute_result"
    }
   ],
   "execution_count": 10
  },
  {
   "metadata": {
    "ExecuteTime": {
     "end_time": "2025-10-23T19:08:05.868071Z",
     "start_time": "2025-10-23T19:08:00.389374Z"
    }
   },
   "cell_type": "code",
   "source": [
    "# Create indexes for train/test split\n",
    "feh.create_train_test_splits(typed_hmda_data)"
   ],
   "id": "342be46a1b9c91ae",
   "outputs": [
    {
     "name": "stdout",
     "output_type": "stream",
     "text": [
      "Train indices saved to: /Users/c1burns/Documents/UTD/BUAN 6341/project_repo/data/processed/train_index.csv/train_index.csv\n",
      "Test indices saved to:  /Users/c1burns/Documents/UTD/BUAN 6341/project_repo/data/processed/test_index.csv/test_index.csv\n"
     ]
    }
   ],
   "execution_count": 11
  },
  {
   "metadata": {
    "ExecuteTime": {
     "end_time": "2025-10-23T19:13:10.245896Z",
     "start_time": "2025-10-23T19:13:03.996586Z"
    }
   },
   "cell_type": "code",
   "source": [
    "# Load modeling dataset and the split indices\n",
    "modeling_dataset = fu.load_parquet(\"hmda_2024_model\")\n",
    "train_output_path = fu.get_path(\"train_index\")\n",
    "test_output_path = fu.get_path(\"test_index\")\n",
    "train_idx = pd.read_csv(train_output_path)[\"index\"]\n",
    "test_idx  = pd.read_csv(test_output_path)[\"index\"]\n",
    "\n",
    "# Subset the DataFrame\n",
    "train_df = modeling_dataset.loc[train_idx]\n",
    "test_df  = modeling_dataset.loc[test_idx]\n",
    "\n",
    "# Compute class proportions\n",
    "target = \"denied_flag\"\n",
    "\n",
    "print(\"Train class proportions:\")\n",
    "print(train_df[target].value_counts(normalize=True).round(4))\n",
    "\n",
    "print(\"\\nTest class proportions:\")\n",
    "print(test_df[target].value_counts(normalize=True).round(4))\n",
    "\n",
    "print(\"\\nOverall dataset proportions:\")\n",
    "print(modeling_dataset[target].value_counts(normalize=True).round(4))"
   ],
   "id": "bb503ecc5803d9ab",
   "outputs": [
    {
     "name": "stdout",
     "output_type": "stream",
     "text": [
      "Loading dataset from /Users/c1burns/Documents/UTD/BUAN 6341/project_repo/data/processed/hmda_2024_model.parquet\n",
      "Train class proportions:\n",
      "denied_flag\n",
      "False    0.757\n",
      "True     0.243\n",
      "Name: proportion, dtype: double[pyarrow]\n",
      "\n",
      "Test class proportions:\n",
      "denied_flag\n",
      "False    0.7571\n",
      "True     0.2429\n",
      "Name: proportion, dtype: double[pyarrow]\n",
      "\n",
      "Overall dataset proportions:\n",
      "denied_flag\n",
      "False    0.7571\n",
      "True     0.2429\n",
      "Name: proportion, dtype: double[pyarrow]\n"
     ]
    }
   ],
   "execution_count": 13
  },
  {
   "metadata": {},
   "cell_type": "code",
   "outputs": [],
   "execution_count": null,
   "source": "",
   "id": "1ee69124ebd6f3e1"
  }
 ],
 "metadata": {
  "kernelspec": {
   "display_name": "Python 3",
   "language": "python",
   "name": "python3"
  },
  "language_info": {
   "codemirror_mode": {
    "name": "ipython",
    "version": 2
   },
   "file_extension": ".py",
   "mimetype": "text/x-python",
   "name": "python",
   "nbconvert_exporter": "python",
   "pygments_lexer": "ipython2",
   "version": "2.7.6"
  }
 },
 "nbformat": 4,
 "nbformat_minor": 5
}
