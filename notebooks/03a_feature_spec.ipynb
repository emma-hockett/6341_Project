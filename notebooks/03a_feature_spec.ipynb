{
 "cells": [
  {
   "cell_type": "code",
   "id": "initial_id",
   "metadata": {
    "collapsed": true,
    "ExecuteTime": {
     "end_time": "2025-10-24T19:08:33.138256Z",
     "start_time": "2025-10-24T19:08:33.100086Z"
    }
   },
   "source": [
    "# Imports and configuration\n",
    "%load_ext autoreload\n",
    "%autoreload 2\n",
    "\n",
    "import src.utils.file_utils as fu\n",
    "import src.helpers.feature_engineering_helper as feh\n",
    "import pandas as pd\n",
    "\n",
    "cfg_schema = fu.load_config(\"schema\")\n",
    "cfg_feature_engineering = fu.load_config(\"feature_engineering\")"
   ],
   "outputs": [
    {
     "name": "stdout",
     "output_type": "stream",
     "text": [
      "The autoreload extension is already loaded. To reload it, use:\n",
      "  %reload_ext autoreload\n"
     ]
    }
   ],
   "execution_count": 152
  },
  {
   "metadata": {
    "ExecuteTime": {
     "end_time": "2025-10-24T19:08:33.956942Z",
     "start_time": "2025-10-24T19:08:33.142773Z"
    }
   },
   "cell_type": "code",
   "source": [
    "# Read in interim typed data file\n",
    "typed_hmda_data = fu.load_parquet(\"hmda_2024_typed\")\n",
    "print(typed_hmda_data.shape)"
   ],
   "id": "db3f18219d4788c3",
   "outputs": [
    {
     "name": "stdout",
     "output_type": "stream",
     "text": [
      "Loading dataset from /Users/c1burns/Documents/UTD/BUAN 6341/project_repo/data/interim/hmda_2024_typed.parquet\n",
      "(8841112, 88)\n"
     ]
    }
   ],
   "execution_count": 153
  },
  {
   "metadata": {
    "ExecuteTime": {
     "end_time": "2025-10-24T19:08:42.864418Z",
     "start_time": "2025-10-24T19:08:33.997288Z"
    }
   },
   "cell_type": "code",
   "source": [
    "# Generate multi-hot features for race/ethnicity features\n",
    "feh.generate_multi_hot_features(typed_hmda_data, cfg_feature_engineering, \"applicant_ethnicity_\")\n",
    "feh.generate_multi_hot_features(typed_hmda_data, cfg_feature_engineering, \"co_applicant_ethnicity_\")\n",
    "feh.generate_multi_hot_features(typed_hmda_data, cfg_feature_engineering, \"applicant_race_\")\n",
    "feh.generate_multi_hot_features(typed_hmda_data, cfg_feature_engineering, \"co_applicant_race_\")\n",
    "print(\"Converted multi-hot columns for race/ethnicity\")"
   ],
   "id": "5622ebd20d1222f9",
   "outputs": [
    {
     "name": "stdout",
     "output_type": "stream",
     "text": [
      "Converted multi-hot columns for race/ethnicity\n"
     ]
    }
   ],
   "execution_count": 154
  },
  {
   "metadata": {
    "ExecuteTime": {
     "end_time": "2025-10-24T19:08:42.917124Z",
     "start_time": "2025-10-24T19:08:42.892323Z"
    }
   },
   "cell_type": "code",
   "source": [
    "# Convert multifamily_affordable_units NA to 0\n",
    "typed_hmda_data[\"multifamily_affordable_units\"] = typed_hmda_data[\"multifamily_affordable_units\"].fillna(0)"
   ],
   "id": "a1e75319d6364014",
   "outputs": [],
   "execution_count": 155
  },
  {
   "metadata": {
    "ExecuteTime": {
     "end_time": "2025-10-24T19:08:42.980521Z",
     "start_time": "2025-10-24T19:08:42.945219Z"
    }
   },
   "cell_type": "code",
   "source": [
    "# Add flag for missing income values\n",
    "typed_hmda_data[\"income_missing\"] = typed_hmda_data[\"income\"].isna().astype(\"int8[pyarrow]\").fillna(-1)"
   ],
   "id": "d643a4f508761814",
   "outputs": [],
   "execution_count": 156
  },
  {
   "metadata": {
    "ExecuteTime": {
     "end_time": "2025-10-24T19:08:48.425353Z",
     "start_time": "2025-10-24T19:08:43.012136Z"
    }
   },
   "cell_type": "code",
   "source": [
    "# Impute values for missing incomes stratified by loan_type using median income to loan amount ratio\n",
    "typed_hmda_data = feh.impute_income(typed_hmda_data)"
   ],
   "id": "2a332750cb0ab203",
   "outputs": [],
   "execution_count": 157
  },
  {
   "metadata": {
    "ExecuteTime": {
     "end_time": "2025-10-24T19:08:48.540508Z",
     "start_time": "2025-10-24T19:08:48.489033Z"
    }
   },
   "cell_type": "code",
   "source": [
    "# Add flag for missing property_value values\n",
    "typed_hmda_data[\"property_value_missing\"] = typed_hmda_data[\"property_value\"].isna().astype(\"int8[pyarrow]\").fillna(-1)"
   ],
   "id": "320bc1d8f4b90b33",
   "outputs": [],
   "execution_count": 158
  },
  {
   "metadata": {
    "ExecuteTime": {
     "end_time": "2025-10-24T19:08:53.337432Z",
     "start_time": "2025-10-24T19:08:48.568841Z"
    }
   },
   "cell_type": "code",
   "source": [
    "# Impute values for missing property_values using median loan to property value\n",
    "typed_hmda_data = feh.impute_property_value(typed_hmda_data)"
   ],
   "id": "f9c2736ceca96b3b",
   "outputs": [],
   "execution_count": 159
  },
  {
   "metadata": {
    "ExecuteTime": {
     "end_time": "2025-10-24T19:08:53.468642Z",
     "start_time": "2025-10-24T19:08:53.397804Z"
    }
   },
   "cell_type": "code",
   "source": [
    "# Drop unneeded columns\n",
    "columns_to_drop = [\n",
    "    \"applicant_ethnicity_1\", \"applicant_ethnicity_2\", \"applicant_ethnicity_3\", \"applicant_ethnicity_4\", \"applicant_ethnicity_5\",\n",
    "    \"co_applicant_ethnicity_1\", \"co_applicant_ethnicity_2\", \"co_applicant_ethnicity_3\", \"co_applicant_ethnicity_4\", \"co_applicant_ethnicity_5\",\n",
    "    \"applicant_race_1\", \"applicant_race_2\", \"applicant_race_3\", \"applicant_race_4\", \"applicant_race_5\",\n",
    "    \"co_applicant_race_1\", \"co_applicant_race_2\", \"co_applicant_race_3\", \"co_applicant_race_4\", \"co_applicant_race_5\",\n",
    "    \"action_taken\", \"census_tract\", \"county_code\", \"activity_year\", \"lei\"\n",
    "]\n",
    "typed_hmda_data.drop(columns=columns_to_drop, inplace=True)"
   ],
   "id": "974a40078eb50d6d",
   "outputs": [],
   "execution_count": 160
  },
  {
   "metadata": {
    "ExecuteTime": {
     "end_time": "2025-10-24T19:08:54.554348Z",
     "start_time": "2025-10-24T19:08:53.497061Z"
    }
   },
   "cell_type": "code",
   "source": [
    "# Encode ordinal features\n",
    "typed_hmda_data[\"debt_to_income_ratio\"] = typed_hmda_data[\"debt_to_income_ratio\"].fillna(\"NA\")\n",
    "debt_to_income_ratio_order = [\"<20%\", \"20%-<30%\", \"30%-<36%\", \"36\", \"37\", \"38\", \"39\", \"40\", \"41\", \"42\", \"43\", \"44\", \"45\", \"46\", \"47\", \"48\", \"49\", \"50%-60%\", \">60%\", \"NA\"]\n",
    "debt_to_income_ratio_code = {v: i for i, v in enumerate(debt_to_income_ratio_order)}\n",
    "typed_hmda_data[\"debt_to_income_ratio\"] = typed_hmda_data[\"debt_to_income_ratio\"].map(debt_to_income_ratio_code).astype(\"Int8\")\n",
    "\n",
    "typed_hmda_data[\"total_units\"] = typed_hmda_data[\"total_units\"].fillna(\"NA\")\n",
    "total_units_order = [\"1\", \"2\", \"3\", \"4\", \"5-24\", \"25-49\", \"50-99\", \"100-149\", \">149\"]\n",
    "total_units_code = {v: i for i, v in enumerate(total_units_order)}\n",
    "typed_hmda_data[\"total_units\"] = typed_hmda_data[\"total_units\"].map(total_units_code).astype(\"Int8\")"
   ],
   "id": "6e659146f50d906e",
   "outputs": [],
   "execution_count": 161
  },
  {
   "metadata": {
    "ExecuteTime": {
     "end_time": "2025-10-24T19:08:54.809073Z",
     "start_time": "2025-10-24T19:08:54.588501Z"
    }
   },
   "cell_type": "code",
   "source": [
    "# Fill string missing values with NA for one-hot encoding\n",
    "typed_hmda_data[typed_hmda_data.select_dtypes(include=[\"string\"]).columns] = typed_hmda_data.select_dtypes(include=[\"string\"]).fillna(\"NA\")"
   ],
   "id": "c5c6255c6123422a",
   "outputs": [],
   "execution_count": 162
  },
  {
   "metadata": {
    "ExecuteTime": {
     "end_time": "2025-10-24T19:08:54.963499Z",
     "start_time": "2025-10-24T19:08:54.843512Z"
    }
   },
   "cell_type": "code",
   "source": [
    "# For numerics that are categorical, fill missing values with -1\n",
    "catg_num_cols = [\"applicant_credit_scoring_model\", \"co_applicant_credit_scoring_model\",\"manufactured_home_secured_property_type\", \"submission_of_application\", \"initially_payable_to_institution\"]\n",
    "typed_hmda_data[catg_num_cols] = typed_hmda_data[catg_num_cols].fillna(typed_hmda_data[catg_num_cols].median())"
   ],
   "id": "d89dfb5d1c3716d0",
   "outputs": [],
   "execution_count": 163
  },
  {
   "metadata": {
    "ExecuteTime": {
     "end_time": "2025-10-24T19:08:55.148957Z",
     "start_time": "2025-10-24T19:08:54.997370Z"
    }
   },
   "cell_type": "code",
   "source": [
    "# For true numerics, fill missing values with median\n",
    "num_cols = [\"combined_loan_to_value_ratio\", \"loan_term\", \"intro_rate_period\", \"prepayment_penalty_term\"]\n",
    "typed_hmda_data[num_cols] = typed_hmda_data[num_cols].fillna(typed_hmda_data[num_cols].median())"
   ],
   "id": "308327347407fbc4",
   "outputs": [],
   "execution_count": 164
  },
  {
   "metadata": {
    "ExecuteTime": {
     "end_time": "2025-10-24T19:09:07.244810Z",
     "start_time": "2025-10-24T19:08:55.182821Z"
    }
   },
   "cell_type": "code",
   "source": [
    "# One-hot encoding for categorical features\n",
    "typed_hmda_data = feh.one_hot_encode(typed_hmda_data)"
   ],
   "id": "9fffb6f7973f38c5",
   "outputs": [],
   "execution_count": 165
  },
  {
   "metadata": {
    "ExecuteTime": {
     "end_time": "2025-10-24T19:09:19.416361Z",
     "start_time": "2025-10-24T19:09:07.285733Z"
    }
   },
   "cell_type": "code",
   "source": [
    "# Output data set to use in modeling\n",
    "fu.save_parquet(typed_hmda_data, \"hmda_2024_model\")"
   ],
   "id": "64d2e6384e21c497",
   "outputs": [
    {
     "name": "stdout",
     "output_type": "stream",
     "text": [
      "Saved to /Users/c1burns/Documents/UTD/BUAN 6341/project_repo/data/processed/hmda_2024_model.parquet\n"
     ]
    },
    {
     "data": {
      "text/plain": [
       "PosixPath('/Users/c1burns/Documents/UTD/BUAN 6341/project_repo/data/processed/hmda_2024_model.parquet')"
      ]
     },
     "execution_count": 166,
     "metadata": {},
     "output_type": "execute_result"
    }
   ],
   "execution_count": 166
  },
  {
   "metadata": {
    "ExecuteTime": {
     "end_time": "2025-10-24T19:09:24.723183Z",
     "start_time": "2025-10-24T19:09:19.450628Z"
    }
   },
   "cell_type": "code",
   "source": [
    "# Create indexes for train/test split\n",
    "feh.create_train_test_splits(typed_hmda_data)"
   ],
   "id": "342be46a1b9c91ae",
   "outputs": [
    {
     "name": "stdout",
     "output_type": "stream",
     "text": [
      "Train indices saved to: /Users/c1burns/Documents/UTD/BUAN 6341/project_repo/data/processed/train_index.csv/train_index.csv\n",
      "Test indices saved to:  /Users/c1burns/Documents/UTD/BUAN 6341/project_repo/data/processed/test_index.csv/test_index.csv\n"
     ]
    }
   ],
   "execution_count": 167
  },
  {
   "metadata": {
    "ExecuteTime": {
     "end_time": "2025-10-24T19:09:31.230460Z",
     "start_time": "2025-10-24T19:09:24.757561Z"
    }
   },
   "cell_type": "code",
   "source": [
    "# Load modeling dataset and the split indices\n",
    "modeling_dataset = fu.load_parquet(\"hmda_2024_model\")\n",
    "train_output_path = fu.get_path(\"train_index\")\n",
    "test_output_path = fu.get_path(\"test_index\")\n",
    "train_idx = pd.read_csv(train_output_path)[\"index\"]\n",
    "test_idx  = pd.read_csv(test_output_path)[\"index\"]\n",
    "\n",
    "# Subset the DataFrame\n",
    "train_df = modeling_dataset.loc[train_idx]\n",
    "test_df  = modeling_dataset.loc[test_idx]\n",
    "\n",
    "# Compute class proportions\n",
    "target = \"denied_flag\"\n",
    "\n",
    "print(\"Train class proportions:\")\n",
    "print(train_df[target].value_counts(normalize=True).round(4))\n",
    "\n",
    "print(\"\\nTest class proportions:\")\n",
    "print(test_df[target].value_counts(normalize=True).round(4))\n",
    "\n",
    "print(\"\\nOverall dataset proportions:\")\n",
    "print(modeling_dataset[target].value_counts(normalize=True).round(4))"
   ],
   "id": "bb503ecc5803d9ab",
   "outputs": [
    {
     "name": "stdout",
     "output_type": "stream",
     "text": [
      "Loading dataset from /Users/c1burns/Documents/UTD/BUAN 6341/project_repo/data/processed/hmda_2024_model.parquet\n",
      "Train class proportions:\n",
      "denied_flag\n",
      "0    0.757\n",
      "1    0.243\n",
      "Name: proportion, dtype: double[pyarrow]\n",
      "\n",
      "Test class proportions:\n",
      "denied_flag\n",
      "0    0.7571\n",
      "1    0.2429\n",
      "Name: proportion, dtype: double[pyarrow]\n",
      "\n",
      "Overall dataset proportions:\n",
      "denied_flag\n",
      "0    0.7571\n",
      "1    0.2429\n",
      "Name: proportion, dtype: double[pyarrow]\n"
     ]
    }
   ],
   "execution_count": 168
  },
  {
   "metadata": {
    "ExecuteTime": {
     "end_time": "2025-10-24T19:09:31.298620Z",
     "start_time": "2025-10-24T19:09:31.297048Z"
    }
   },
   "cell_type": "code",
   "source": "",
   "id": "211eb2a8c459fd23",
   "outputs": [],
   "execution_count": null
  }
 ],
 "metadata": {
  "kernelspec": {
   "display_name": "Python 3",
   "language": "python",
   "name": "python3"
  },
  "language_info": {
   "codemirror_mode": {
    "name": "ipython",
    "version": 2
   },
   "file_extension": ".py",
   "mimetype": "text/x-python",
   "name": "python",
   "nbconvert_exporter": "python",
   "pygments_lexer": "ipython2",
   "version": "2.7.6"
  }
 },
 "nbformat": 4,
 "nbformat_minor": 5
}
