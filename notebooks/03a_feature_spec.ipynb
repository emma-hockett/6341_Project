{
 "cells": [
  {
   "cell_type": "code",
   "id": "initial_id",
   "metadata": {
    "collapsed": true,
    "ExecuteTime": {
     "end_time": "2025-10-23T16:34:16.534404Z",
     "start_time": "2025-10-23T16:34:16.523511Z"
    }
   },
   "source": [
    "# Imports and configuration\n",
    "%load_ext autoreload\n",
    "%autoreload 2\n",
    "\n",
    "import src.utils.file_utils as fu\n",
    "import src.helpers.feature_engineering_helper as feh\n",
    "\n",
    "cfg_schema = fu.load_config(\"schema\")\n",
    "cfg_feature_engineering = fu.load_config(\"feature_engineering\")"
   ],
   "outputs": [
    {
     "name": "stdout",
     "output_type": "stream",
     "text": [
      "The autoreload extension is already loaded. To reload it, use:\n",
      "  %reload_ext autoreload\n"
     ]
    }
   ],
   "execution_count": 6
  },
  {
   "metadata": {
    "ExecuteTime": {
     "end_time": "2025-10-23T16:34:17.065035Z",
     "start_time": "2025-10-23T16:34:16.545990Z"
    }
   },
   "cell_type": "code",
   "source": [
    "# Read in interim typed data file\n",
    "typed_hmda_data = fu.load_parquet(\"hmda_2024_typed\")\n",
    "print(typed_hmda_data.shape)"
   ],
   "id": "db3f18219d4788c3",
   "outputs": [
    {
     "name": "stdout",
     "output_type": "stream",
     "text": [
      "Loading dataset from /Users/c1burns/Documents/UTD/BUAN 6341/project_repo/data/interim/hmda_2024_typed.parquet\n",
      "(8841112, 88)\n"
     ]
    }
   ],
   "execution_count": 7
  },
  {
   "metadata": {
    "ExecuteTime": {
     "end_time": "2025-10-23T16:34:25.868468Z",
     "start_time": "2025-10-23T16:34:17.160392Z"
    }
   },
   "cell_type": "code",
   "source": [
    "# Generate multi-hot features for race/ethnicity features\n",
    "feh.generate_multi_hot_features(typed_hmda_data, cfg_feature_engineering, \"applicant_ethnicity_\")\n",
    "feh.generate_multi_hot_features(typed_hmda_data, cfg_feature_engineering, \"co_applicant_ethnicity_\")\n",
    "feh.generate_multi_hot_features(typed_hmda_data, cfg_feature_engineering, \"applicant_race_\")\n",
    "feh.generate_multi_hot_features(typed_hmda_data, cfg_feature_engineering, \"co_applicant_race_\")\n",
    "print(\"Converted multi-hot columns for race/ethnicity\")"
   ],
   "id": "5622ebd20d1222f9",
   "outputs": [
    {
     "name": "stdout",
     "output_type": "stream",
     "text": [
      "Converted multi-hot columns for race/ethnicity\n"
     ]
    }
   ],
   "execution_count": 10
  },
  {
   "metadata": {},
   "cell_type": "code",
   "outputs": [],
   "execution_count": null,
   "source": "",
   "id": "a1e75319d6364014"
  }
 ],
 "metadata": {
  "kernelspec": {
   "display_name": "Python 3",
   "language": "python",
   "name": "python3"
  },
  "language_info": {
   "codemirror_mode": {
    "name": "ipython",
    "version": 2
   },
   "file_extension": ".py",
   "mimetype": "text/x-python",
   "name": "python",
   "nbconvert_exporter": "python",
   "pygments_lexer": "ipython2",
   "version": "2.7.6"
  }
 },
 "nbformat": 4,
 "nbformat_minor": 5
}
