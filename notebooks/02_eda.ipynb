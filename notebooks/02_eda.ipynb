{
 "cells": [
  {
   "cell_type": "code",
   "id": "initial_id",
   "metadata": {
    "collapsed": true,
    "ExecuteTime": {
     "end_time": "2025-10-16T19:50:54.712497Z",
     "start_time": "2025-10-16T19:50:52.470278Z"
    }
   },
   "source": [
    "# Imports and configuration\n",
    "%load_ext autoreload\n",
    "%autoreload 2\n",
    "\n",
    "import pandas as pd\n",
    "import src.utils.file_utils as fu"
   ],
   "outputs": [],
   "execution_count": 1
  },
  {
   "metadata": {
    "ExecuteTime": {
     "end_time": "2025-10-16T19:51:26.785465Z",
     "start_time": "2025-10-16T19:51:25.731248Z"
    }
   },
   "cell_type": "code",
   "source": [
    "# Read in raw data file\n",
    "typed_hmda_data = fu.load_parquet(\"hmda_2024_typed\")\n",
    "print(typed_hmda_data.shape)"
   ],
   "id": "310d52ce878efd13",
   "outputs": [
    {
     "name": "stdout",
     "output_type": "stream",
     "text": [
      "Loading dataset from /Users/c1burns/Documents/UTD/BUAN 6341/project_repo/data/interim/hmda_2024_typed.parquet\n",
      "(8841112, 76)\n"
     ]
    }
   ],
   "execution_count": 2
  },
  {
   "metadata": {
    "ExecuteTime": {
     "end_time": "2025-10-16T19:52:47.010509Z",
     "start_time": "2025-10-16T19:52:46.998940Z"
    }
   },
   "cell_type": "code",
   "source": [
    "# Verify target variable is binary\n",
    "typed_hmda_data[\"approved_flag\"].dtype"
   ],
   "id": "236b0c9a25a82ccc",
   "outputs": [
    {
     "data": {
      "text/plain": [
       "bool[pyarrow]"
      ]
     },
     "execution_count": 5,
     "metadata": {},
     "output_type": "execute_result"
    }
   ],
   "execution_count": 5
  },
  {
   "metadata": {
    "ExecuteTime": {
     "end_time": "2025-10-16T19:53:23.579693Z",
     "start_time": "2025-10-16T19:53:23.492121Z"
    }
   },
   "cell_type": "code",
   "source": [
    "# Verify target variable values are all populated True/False\n",
    "typed_hmda_data[\"approved_flag\"].value_counts()"
   ],
   "id": "3492833abfc623e1",
   "outputs": [
    {
     "data": {
      "text/plain": [
       "approved_flag\n",
       "True     6693164\n",
       "False    2147948\n",
       "Name: count, dtype: int64[pyarrow]"
      ]
     },
     "execution_count": 6,
     "metadata": {},
     "output_type": "execute_result"
    }
   ],
   "execution_count": 6
  },
  {
   "metadata": {},
   "cell_type": "code",
   "outputs": [],
   "execution_count": null,
   "source": "",
   "id": "3f6fa72331ca7712"
  }
 ],
 "metadata": {
  "kernelspec": {
   "display_name": "Python 3",
   "language": "python",
   "name": "python3"
  },
  "language_info": {
   "codemirror_mode": {
    "name": "ipython",
    "version": 2
   },
   "file_extension": ".py",
   "mimetype": "text/x-python",
   "name": "python",
   "nbconvert_exporter": "python",
   "pygments_lexer": "ipython2",
   "version": "2.7.6"
  }
 },
 "nbformat": 4,
 "nbformat_minor": 5
}
