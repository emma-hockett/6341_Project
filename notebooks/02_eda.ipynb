{
 "cells": [
  {
   "cell_type": "code",
   "id": "initial_id",
   "metadata": {
    "collapsed": true,
    "ExecuteTime": {
     "end_time": "2025-10-16T20:10:48.047514Z",
     "start_time": "2025-10-16T20:10:47.966040Z"
    }
   },
   "source": [
    "# Imports and configuration\n",
    "%load_ext autoreload\n",
    "%autoreload 2\n",
    "\n",
    "import pandas as pd\n",
    "import src.utils.file_utils as fu"
   ],
   "outputs": [
    {
     "name": "stdout",
     "output_type": "stream",
     "text": [
      "The autoreload extension is already loaded. To reload it, use:\n",
      "  %reload_ext autoreload\n"
     ]
    }
   ],
   "execution_count": 9
  },
  {
   "metadata": {
    "ExecuteTime": {
     "end_time": "2025-10-16T20:10:51.672449Z",
     "start_time": "2025-10-16T20:10:50.918580Z"
    }
   },
   "cell_type": "code",
   "source": [
    "# Read in raw data file\n",
    "typed_hmda_data = fu.load_parquet(\"hmda_2024_typed\")\n",
    "print(typed_hmda_data.shape)"
   ],
   "id": "310d52ce878efd13",
   "outputs": [
    {
     "name": "stdout",
     "output_type": "stream",
     "text": [
      "Loading dataset from /Users/c1burns/Documents/UTD/BUAN 6341/project_repo/data/interim/hmda_2024_typed.parquet\n",
      "(8841112, 76)\n"
     ]
    }
   ],
   "execution_count": 10
  },
  {
   "metadata": {
    "ExecuteTime": {
     "end_time": "2025-10-16T20:11:02.917575Z",
     "start_time": "2025-10-16T20:11:02.904173Z"
    }
   },
   "cell_type": "code",
   "source": [
    "# Verify target variable is binary\n",
    "typed_hmda_data[\"denied_flag\"].dtype"
   ],
   "id": "236b0c9a25a82ccc",
   "outputs": [
    {
     "data": {
      "text/plain": [
       "bool[pyarrow]"
      ]
     },
     "execution_count": 12,
     "metadata": {},
     "output_type": "execute_result"
    }
   ],
   "execution_count": 12
  },
  {
   "metadata": {
    "ExecuteTime": {
     "end_time": "2025-10-16T20:11:10.377489Z",
     "start_time": "2025-10-16T20:11:10.321479Z"
    }
   },
   "cell_type": "code",
   "source": [
    "# Verify target variable values are all populated True/False\n",
    "typed_hmda_data[\"denied_flag\"].value_counts()"
   ],
   "id": "3492833abfc623e1",
   "outputs": [
    {
     "data": {
      "text/plain": [
       "denied_flag\n",
       "False    6693164\n",
       "True     2147948\n",
       "Name: count, dtype: int64[pyarrow]"
      ]
     },
     "execution_count": 13,
     "metadata": {},
     "output_type": "execute_result"
    }
   ],
   "execution_count": 13
  },
  {
   "metadata": {
    "ExecuteTime": {
     "end_time": "2025-10-16T20:11:16.379923Z",
     "start_time": "2025-10-16T20:11:16.334040Z"
    }
   },
   "cell_type": "code",
   "source": [
    "# Target variable class proportions\n",
    "typed_hmda_data[\"denied_flag\"].value_counts(normalize=True)"
   ],
   "id": "3f6fa72331ca7712",
   "outputs": [
    {
     "data": {
      "text/plain": [
       "denied_flag\n",
       "False    0.75705\n",
       "True     0.24295\n",
       "Name: proportion, dtype: double[pyarrow]"
      ]
     },
     "execution_count": 14,
     "metadata": {},
     "output_type": "execute_result"
    }
   ],
   "execution_count": 14
  },
  {
   "metadata": {},
   "cell_type": "code",
   "outputs": [],
   "execution_count": null,
   "source": "",
   "id": "61beff5ea78e6bfe"
  }
 ],
 "metadata": {
  "kernelspec": {
   "display_name": "Python 3",
   "language": "python",
   "name": "python3"
  },
  "language_info": {
   "codemirror_mode": {
    "name": "ipython",
    "version": 2
   },
   "file_extension": ".py",
   "mimetype": "text/x-python",
   "name": "python",
   "nbconvert_exporter": "python",
   "pygments_lexer": "ipython2",
   "version": "2.7.6"
  }
 },
 "nbformat": 4,
 "nbformat_minor": 5
}
