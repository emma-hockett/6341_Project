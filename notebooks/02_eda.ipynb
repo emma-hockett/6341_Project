{
 "cells": [
  {
   "cell_type": "code",
   "id": "initial_id",
   "metadata": {
    "collapsed": true,
    "ExecuteTime": {
     "end_time": "2025-10-16T20:36:37.173250Z",
     "start_time": "2025-10-16T20:36:37.106382Z"
    }
   },
   "source": [
    "# Imports and configuration\n",
    "%load_ext autoreload\n",
    "%autoreload 2\n",
    "\n",
    "import pandas as pd\n",
    "import src.utils.file_utils as fu\n",
    "import seaborn as sns\n",
    "import matplotlib.pyplot as plt"
   ],
   "outputs": [],
   "execution_count": 1
  },
  {
   "metadata": {
    "ExecuteTime": {
     "end_time": "2025-10-16T20:36:37.815170Z",
     "start_time": "2025-10-16T20:36:37.243958Z"
    }
   },
   "cell_type": "code",
   "source": [
    "# Read in raw data file\n",
    "typed_hmda_data = fu.load_parquet(\"hmda_2024_typed\")\n",
    "print(typed_hmda_data.shape)"
   ],
   "id": "310d52ce878efd13",
   "outputs": [
    {
     "name": "stdout",
     "output_type": "stream",
     "text": [
      "Loading dataset from /Users/c1burns/Documents/UTD/BUAN 6341/project_repo/data/interim/hmda_2024_typed.parquet\n",
      "(8841112, 76)\n"
     ]
    }
   ],
   "execution_count": 2
  },
  {
   "metadata": {
    "ExecuteTime": {
     "end_time": "2025-10-16T20:36:37.844210Z",
     "start_time": "2025-10-16T20:36:37.833496Z"
    }
   },
   "cell_type": "code",
   "source": [
    "# Verify target variable is binary\n",
    "typed_hmda_data[\"denied_flag\"].dtype"
   ],
   "id": "236b0c9a25a82ccc",
   "outputs": [
    {
     "data": {
      "text/plain": [
       "bool[pyarrow]"
      ]
     },
     "execution_count": 3,
     "metadata": {},
     "output_type": "execute_result"
    }
   ],
   "execution_count": 3
  },
  {
   "metadata": {
    "ExecuteTime": {
     "end_time": "2025-10-16T20:36:37.899944Z",
     "start_time": "2025-10-16T20:36:37.858460Z"
    }
   },
   "cell_type": "code",
   "source": [
    "# Verify target variable values are all populated True/False\n",
    "typed_hmda_data[\"denied_flag\"].value_counts()"
   ],
   "id": "3492833abfc623e1",
   "outputs": [
    {
     "data": {
      "text/plain": [
       "denied_flag\n",
       "False    6693164\n",
       "True     2147948\n",
       "Name: count, dtype: int64[pyarrow]"
      ]
     },
     "execution_count": 4,
     "metadata": {},
     "output_type": "execute_result"
    }
   ],
   "execution_count": 4
  },
  {
   "metadata": {
    "ExecuteTime": {
     "end_time": "2025-10-16T20:36:37.963654Z",
     "start_time": "2025-10-16T20:36:37.924788Z"
    }
   },
   "cell_type": "code",
   "source": [
    "# Target variable class proportions\n",
    "proportions = typed_hmda_data[\"denied_flag\"].value_counts(normalize=True)\n",
    "proportions"
   ],
   "id": "3f6fa72331ca7712",
   "outputs": [
    {
     "data": {
      "text/plain": [
       "denied_flag\n",
       "False    0.75705\n",
       "True     0.24295\n",
       "Name: proportion, dtype: double[pyarrow]"
      ]
     },
     "execution_count": 5,
     "metadata": {},
     "output_type": "execute_result"
    }
   ],
   "execution_count": 5
  },
  {
   "metadata": {
    "ExecuteTime": {
     "end_time": "2025-10-16T20:36:38.273375Z",
     "start_time": "2025-10-16T20:36:37.977661Z"
    }
   },
   "cell_type": "code",
   "source": [
    "# Convert to DataFrame for seaborn\n",
    "proportions_df = proportions.reset_index()\n",
    "proportions_df.columns = ['is_denied', 'proportion']\n",
    "\n",
    "# Get the output path\n",
    "graph_output_path = fu.get_path(\"target_class_balance_graph\")\n",
    "\n",
    "# Create the bar plot\n",
    "sns.barplot(data=proportions_df, x='is_denied', y='proportion')\n",
    "\n",
    "plt.title('Proportion of Loan Denials')\n",
    "plt.ylabel('Proportion')\n",
    "plt.xlabel('Loan Denied (True/False)')\n",
    "plt.ylim(0, 1)\n",
    "plt.savefig(graph_output_path, dpi=300, bbox_inches='tight', transparent=True)\n",
    "plt.show()"
   ],
   "id": "61beff5ea78e6bfe",
   "outputs": [
    {
     "data": {
      "text/plain": [
       "<Figure size 640x480 with 1 Axes>"
      ],
      "image/png": "[encoded data removed]"
     },
     "metadata": {},
     "output_type": "display_data"
    }
   ],
   "execution_count": 6
  },
  {
   "metadata": {
    "ExecuteTime": {
     "end_time": "2025-10-16T20:38:15.479742Z",
     "start_time": "2025-10-16T20:38:15.465546Z"
    }
   },
   "cell_type": "code",
   "source": "# Dataset is imbalanced; may require class weighting or resampling later",
   "id": "d3ff21aeb3c8f864",
   "outputs": [],
   "execution_count": 7
  },
  {
   "metadata": {},
   "cell_type": "code",
   "outputs": [],
   "execution_count": null,
   "source": "",
   "id": "2c0022d05ea8493e"
  }
 ],
 "metadata": {
  "kernelspec": {
   "display_name": "Python 3",
   "language": "python",
   "name": "python3"
  },
  "language_info": {
   "codemirror_mode": {
    "name": "ipython",
    "version": 2
   },
   "file_extension": ".py",
   "mimetype": "text/x-python",
   "name": "python",
   "nbconvert_exporter": "python",
   "pygments_lexer": "ipython2",
   "version": "2.7.6"
  }
 },
 "nbformat": 4,
 "nbformat_minor": 5
}
