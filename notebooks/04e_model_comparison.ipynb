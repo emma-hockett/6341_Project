{
 "cells": [
  {
   "cell_type": "code",
   "id": "initial_id",
   "metadata": {
    "collapsed": true,
    "ExecuteTime": {
     "end_time": "2025-10-28T19:31:23.298525Z",
     "start_time": "2025-10-28T19:31:23.271883Z"
    }
   },
   "source": [
    "# Imports and configs\n",
    "%load_ext autoreload\n",
    "%autoreload 2\n",
    "\n",
    "import src.helpers.model_comparison_helpers as mch\n",
    "import pandas as pd"
   ],
   "outputs": [
    {
     "name": "stdout",
     "output_type": "stream",
     "text": [
      "The autoreload extension is already loaded. To reload it, use:\n",
      "  %reload_ext autoreload\n"
     ]
    }
   ],
   "execution_count": 4
  },
  {
   "metadata": {
    "ExecuteTime": {
     "end_time": "2025-10-28T19:31:23.321452Z",
     "start_time": "2025-10-28T19:31:23.301964Z"
    }
   },
   "cell_type": "code",
   "source": [
    "# Load model performance metrics\n",
    "log_reg_metrics = mch.load_model_metrics_from_csv(\"log_reg\")\n",
    "random_forest_metrics = mch.load_model_metrics_from_csv(\"random_forest\")\n",
    "hgbm_metrics = mch.load_model_metrics_from_csv(\"hgbm\")\n",
    "mlp_metrics = mch.load_model_metrics_from_csv(\"mlp\")"
   ],
   "id": "26078bd283f2fe93",
   "outputs": [],
   "execution_count": 5
  },
  {
   "metadata": {
    "ExecuteTime": {
     "end_time": "2025-10-28T19:31:23.351877Z",
     "start_time": "2025-10-28T19:31:23.339134Z"
    }
   },
   "cell_type": "code",
   "source": [
    "# Combine metrics into single data frame and display\n",
    "combined_metrics = pd.concat([log_reg_metrics, random_forest_metrics, hgbm_metrics, mlp_metrics]).sort_values(by=[\"F1\"], ascending=False)\n",
    "combined_metrics"
   ],
   "id": "ca2b6f054273c7bd",
   "outputs": [
    {
     "data": {
      "text/plain": [
       "metric               F1  Accuracy  Precision    Recall   ROC AUC    PR AUC\n",
       "Model                                                                     \n",
       "hgbm           0.655835  0.808325   0.575024  0.763075  0.872487  0.744717\n",
       "random_forest  0.651096  0.817524   0.600213  0.711405  0.867548  0.733468\n",
       "log_reg        0.594978  0.759162   0.497878  0.739130  0.831442  0.641836\n",
       "mlp            0.584774  0.829739   0.702297  0.500945  0.844456  0.672881"
      ],
      "text/html": [
       "<div>\n",
       "<style scoped>\n",
       "    .dataframe tbody tr th:only-of-type {\n",
       "        vertical-align: middle;\n",
       "    }\n",
       "\n",
       "    .dataframe tbody tr th {\n",
       "        vertical-align: top;\n",
       "    }\n",
       "\n",
       "    .dataframe thead th {\n",
       "        text-align: right;\n",
       "    }\n",
       "</style>\n",
       "<table border=\"1\" class=\"dataframe\">\n",
       "  <thead>\n",
       "    <tr style=\"text-align: right;\">\n",
       "      <th>metric</th>\n",
       "      <th>F1</th>\n",
       "      <th>Accuracy</th>\n",
       "      <th>Precision</th>\n",
       "      <th>Recall</th>\n",
       "      <th>ROC AUC</th>\n",
       "      <th>PR AUC</th>\n",
       "    </tr>\n",
       "    <tr>\n",
       "      <th>Model</th>\n",
       "      <th></th>\n",
       "      <th></th>\n",
       "      <th></th>\n",
       "      <th></th>\n",
       "      <th></th>\n",
       "      <th></th>\n",
       "    </tr>\n",
       "  </thead>\n",
       "  <tbody>\n",
       "    <tr>\n",
       "      <th>hgbm</th>\n",
       "      <td>0.655835</td>\n",
       "      <td>0.808325</td>\n",
       "      <td>0.575024</td>\n",
       "      <td>0.763075</td>\n",
       "      <td>0.872487</td>\n",
       "      <td>0.744717</td>\n",
       "    </tr>\n",
       "    <tr>\n",
       "      <th>random_forest</th>\n",
       "      <td>0.651096</td>\n",
       "      <td>0.817524</td>\n",
       "      <td>0.600213</td>\n",
       "      <td>0.711405</td>\n",
       "      <td>0.867548</td>\n",
       "      <td>0.733468</td>\n",
       "    </tr>\n",
       "    <tr>\n",
       "      <th>log_reg</th>\n",
       "      <td>0.594978</td>\n",
       "      <td>0.759162</td>\n",
       "      <td>0.497878</td>\n",
       "      <td>0.739130</td>\n",
       "      <td>0.831442</td>\n",
       "      <td>0.641836</td>\n",
       "    </tr>\n",
       "    <tr>\n",
       "      <th>mlp</th>\n",
       "      <td>0.584774</td>\n",
       "      <td>0.829739</td>\n",
       "      <td>0.702297</td>\n",
       "      <td>0.500945</td>\n",
       "      <td>0.844456</td>\n",
       "      <td>0.672881</td>\n",
       "    </tr>\n",
       "  </tbody>\n",
       "</table>\n",
       "</div>"
      ]
     },
     "execution_count": 6,
     "metadata": {},
     "output_type": "execute_result"
    }
   ],
   "execution_count": 6
  },
  {
   "metadata": {
    "ExecuteTime": {
     "end_time": "2025-10-28T19:31:23.393857Z",
     "start_time": "2025-10-28T19:31:23.392583Z"
    }
   },
   "cell_type": "code",
   "source": "",
   "id": "cd6f1315c803ebc5",
   "outputs": [],
   "execution_count": null
  }
 ],
 "metadata": {
  "kernelspec": {
   "display_name": "Python 3",
   "language": "python",
   "name": "python3"
  },
  "language_info": {
   "codemirror_mode": {
    "name": "ipython",
    "version": 2
   },
   "file_extension": ".py",
   "mimetype": "text/x-python",
   "name": "python",
   "nbconvert_exporter": "python",
   "pygments_lexer": "ipython2",
   "version": "2.7.6"
  }
 },
 "nbformat": 4,
 "nbformat_minor": 5
}
